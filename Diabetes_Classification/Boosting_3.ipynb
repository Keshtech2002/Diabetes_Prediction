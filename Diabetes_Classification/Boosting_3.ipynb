{
 "cells": [
  {
   "cell_type": "code",
   "execution_count": 1,
   "id": "3134a876-838a-40f7-a48b-8fb4d98004d1",
   "metadata": {},
   "outputs": [],
   "source": [
    "import numpy as np\n",
    "import pandas as pd\n",
    "import matplotlib.pyplot as plt\n",
    "import seaborn as sns\n",
    "%matplotlib inline\n",
    "import os\n",
    "import warnings\n",
    "warnings.filterwarnings('ignore')"
   ]
  },
  {
   "cell_type": "code",
   "execution_count": 2,
   "id": "7d13ed48-e58c-40a0-a96a-8c33562ab4e7",
   "metadata": {},
   "outputs": [
    {
     "data": {
      "text/html": [
       "<div>\n",
       "<style scoped>\n",
       "    .dataframe tbody tr th:only-of-type {\n",
       "        vertical-align: middle;\n",
       "    }\n",
       "\n",
       "    .dataframe tbody tr th {\n",
       "        vertical-align: top;\n",
       "    }\n",
       "\n",
       "    .dataframe thead th {\n",
       "        text-align: right;\n",
       "    }\n",
       "</style>\n",
       "<table border=\"1\" class=\"dataframe\">\n",
       "  <thead>\n",
       "    <tr style=\"text-align: right;\">\n",
       "      <th></th>\n",
       "      <th>Diabetes_binary</th>\n",
       "      <th>HighBP</th>\n",
       "      <th>HighChol</th>\n",
       "      <th>CholCheck</th>\n",
       "      <th>BMI</th>\n",
       "      <th>Smoker</th>\n",
       "      <th>Stroke</th>\n",
       "      <th>HeartDiseaseorAttack</th>\n",
       "      <th>PhysActivity</th>\n",
       "      <th>Fruits</th>\n",
       "      <th>...</th>\n",
       "      <th>AnyHealthcare</th>\n",
       "      <th>NoDocbcCost</th>\n",
       "      <th>GenHlth</th>\n",
       "      <th>MentHlth</th>\n",
       "      <th>PhysHlth</th>\n",
       "      <th>DiffWalk</th>\n",
       "      <th>Sex</th>\n",
       "      <th>Age</th>\n",
       "      <th>Education</th>\n",
       "      <th>Income</th>\n",
       "    </tr>\n",
       "  </thead>\n",
       "  <tbody>\n",
       "    <tr>\n",
       "      <th>0</th>\n",
       "      <td>0.0</td>\n",
       "      <td>1.0</td>\n",
       "      <td>0.0</td>\n",
       "      <td>1.0</td>\n",
       "      <td>26.0</td>\n",
       "      <td>0.0</td>\n",
       "      <td>0.0</td>\n",
       "      <td>0.0</td>\n",
       "      <td>1.0</td>\n",
       "      <td>0.0</td>\n",
       "      <td>...</td>\n",
       "      <td>1.0</td>\n",
       "      <td>0.0</td>\n",
       "      <td>3.0</td>\n",
       "      <td>5.0</td>\n",
       "      <td>30.0</td>\n",
       "      <td>0.0</td>\n",
       "      <td>1.0</td>\n",
       "      <td>4.0</td>\n",
       "      <td>6.0</td>\n",
       "      <td>8.0</td>\n",
       "    </tr>\n",
       "    <tr>\n",
       "      <th>1</th>\n",
       "      <td>0.0</td>\n",
       "      <td>1.0</td>\n",
       "      <td>1.0</td>\n",
       "      <td>1.0</td>\n",
       "      <td>26.0</td>\n",
       "      <td>1.0</td>\n",
       "      <td>1.0</td>\n",
       "      <td>0.0</td>\n",
       "      <td>0.0</td>\n",
       "      <td>1.0</td>\n",
       "      <td>...</td>\n",
       "      <td>1.0</td>\n",
       "      <td>0.0</td>\n",
       "      <td>3.0</td>\n",
       "      <td>0.0</td>\n",
       "      <td>0.0</td>\n",
       "      <td>0.0</td>\n",
       "      <td>1.0</td>\n",
       "      <td>12.0</td>\n",
       "      <td>6.0</td>\n",
       "      <td>8.0</td>\n",
       "    </tr>\n",
       "    <tr>\n",
       "      <th>2</th>\n",
       "      <td>0.0</td>\n",
       "      <td>0.0</td>\n",
       "      <td>0.0</td>\n",
       "      <td>1.0</td>\n",
       "      <td>26.0</td>\n",
       "      <td>0.0</td>\n",
       "      <td>0.0</td>\n",
       "      <td>0.0</td>\n",
       "      <td>1.0</td>\n",
       "      <td>1.0</td>\n",
       "      <td>...</td>\n",
       "      <td>1.0</td>\n",
       "      <td>0.0</td>\n",
       "      <td>1.0</td>\n",
       "      <td>0.0</td>\n",
       "      <td>10.0</td>\n",
       "      <td>0.0</td>\n",
       "      <td>1.0</td>\n",
       "      <td>13.0</td>\n",
       "      <td>6.0</td>\n",
       "      <td>8.0</td>\n",
       "    </tr>\n",
       "    <tr>\n",
       "      <th>3</th>\n",
       "      <td>0.0</td>\n",
       "      <td>1.0</td>\n",
       "      <td>1.0</td>\n",
       "      <td>1.0</td>\n",
       "      <td>28.0</td>\n",
       "      <td>1.0</td>\n",
       "      <td>0.0</td>\n",
       "      <td>0.0</td>\n",
       "      <td>1.0</td>\n",
       "      <td>1.0</td>\n",
       "      <td>...</td>\n",
       "      <td>1.0</td>\n",
       "      <td>0.0</td>\n",
       "      <td>3.0</td>\n",
       "      <td>0.0</td>\n",
       "      <td>3.0</td>\n",
       "      <td>0.0</td>\n",
       "      <td>1.0</td>\n",
       "      <td>11.0</td>\n",
       "      <td>6.0</td>\n",
       "      <td>8.0</td>\n",
       "    </tr>\n",
       "    <tr>\n",
       "      <th>4</th>\n",
       "      <td>0.0</td>\n",
       "      <td>0.0</td>\n",
       "      <td>0.0</td>\n",
       "      <td>1.0</td>\n",
       "      <td>29.0</td>\n",
       "      <td>1.0</td>\n",
       "      <td>0.0</td>\n",
       "      <td>0.0</td>\n",
       "      <td>1.0</td>\n",
       "      <td>1.0</td>\n",
       "      <td>...</td>\n",
       "      <td>1.0</td>\n",
       "      <td>0.0</td>\n",
       "      <td>2.0</td>\n",
       "      <td>0.0</td>\n",
       "      <td>0.0</td>\n",
       "      <td>0.0</td>\n",
       "      <td>0.0</td>\n",
       "      <td>8.0</td>\n",
       "      <td>5.0</td>\n",
       "      <td>8.0</td>\n",
       "    </tr>\n",
       "  </tbody>\n",
       "</table>\n",
       "<p>5 rows × 22 columns</p>\n",
       "</div>"
      ],
      "text/plain": [
       "   Diabetes_binary  HighBP  HighChol  CholCheck   BMI  Smoker  Stroke  \\\n",
       "0              0.0     1.0       0.0        1.0  26.0     0.0     0.0   \n",
       "1              0.0     1.0       1.0        1.0  26.0     1.0     1.0   \n",
       "2              0.0     0.0       0.0        1.0  26.0     0.0     0.0   \n",
       "3              0.0     1.0       1.0        1.0  28.0     1.0     0.0   \n",
       "4              0.0     0.0       0.0        1.0  29.0     1.0     0.0   \n",
       "\n",
       "   HeartDiseaseorAttack  PhysActivity  Fruits  ...  AnyHealthcare  \\\n",
       "0                   0.0           1.0     0.0  ...            1.0   \n",
       "1                   0.0           0.0     1.0  ...            1.0   \n",
       "2                   0.0           1.0     1.0  ...            1.0   \n",
       "3                   0.0           1.0     1.0  ...            1.0   \n",
       "4                   0.0           1.0     1.0  ...            1.0   \n",
       "\n",
       "   NoDocbcCost  GenHlth  MentHlth  PhysHlth  DiffWalk  Sex   Age  Education  \\\n",
       "0          0.0      3.0       5.0      30.0       0.0  1.0   4.0        6.0   \n",
       "1          0.0      3.0       0.0       0.0       0.0  1.0  12.0        6.0   \n",
       "2          0.0      1.0       0.0      10.0       0.0  1.0  13.0        6.0   \n",
       "3          0.0      3.0       0.0       3.0       0.0  1.0  11.0        6.0   \n",
       "4          0.0      2.0       0.0       0.0       0.0  0.0   8.0        5.0   \n",
       "\n",
       "   Income  \n",
       "0     8.0  \n",
       "1     8.0  \n",
       "2     8.0  \n",
       "3     8.0  \n",
       "4     8.0  \n",
       "\n",
       "[5 rows x 22 columns]"
      ]
     },
     "execution_count": 2,
     "metadata": {},
     "output_type": "execute_result"
    }
   ],
   "source": [
    "df = pd.read_csv('C:\\\\Users\\\\HP\\\\Documents\\\\KESHTECH\\\\DSML\\\\Projects\\\\Diabetes_Prediction\\\\Diabetes_Classification\\\\Datasets\\\\diabetes_binary_5050split_health_indicators_BRFSS2015.csv')\n",
    "df.head()"
   ]
  },
  {
   "cell_type": "code",
   "execution_count": 3,
   "id": "e7a12dd1-b405-4201-9947-ce6b6a0c7fd5",
   "metadata": {},
   "outputs": [],
   "source": [
    "from sklearn.neighbors import KNeighborsClassifier\n",
    "from sklearn.ensemble import RandomForestClassifier, AdaBoostClassifier, GradientBoostingClassifier\n",
    "from xgboost import XGBClassifier\n",
    "from sklearn.tree import DecisionTreeClassifier\n",
    "from sklearn.svm import SVC\n",
    "from sklearn.model_selection import StratifiedKFold, RepeatedStratifiedKFold, RandomizedSearchCV, cross_validate, GridSearchCV\n",
    "from sklearn.metrics import classification_report"
   ]
  },
  {
   "cell_type": "code",
   "execution_count": 4,
   "id": "8c14bd80-7163-42c1-8389-2f563b980068",
   "metadata": {},
   "outputs": [],
   "source": [
    "from sklearn.metrics import accuracy_score\n",
    "from sklearn.metrics import matthews_corrcoef\n",
    "from sklearn.metrics import f1_score, recall_score, precision_score"
   ]
  },
  {
   "cell_type": "code",
   "execution_count": 5,
   "id": "69a89b42-008d-4044-86f5-c73d468339fd",
   "metadata": {},
   "outputs": [],
   "source": [
    "X = df.drop(columns=\"Diabetes_binary\")\n",
    "y = df[\"Diabetes_binary\"]"
   ]
  },
  {
   "cell_type": "code",
   "execution_count": 6,
   "id": "908920d1-2491-433d-aa43-06e73dd56e5e",
   "metadata": {},
   "outputs": [
    {
     "name": "stdout",
     "output_type": "stream",
     "text": [
      "(56553, 21)\n",
      "(14139, 21)\n",
      "(56553,)\n",
      "(14139,)\n"
     ]
    }
   ],
   "source": [
    "from sklearn.model_selection import train_test_split\n",
    "X_train, X_test, y_train, y_test = train_test_split(X, y, test_size=0.2, shuffle=True, stratify = y, random_state=42)\n",
    "\n",
    "# check shapes of split\n",
    "print(X_train.shape)\n",
    "print(X_test.shape)\n",
    "print(y_train.shape)\n",
    "print(y_test.shape)"
   ]
  },
  {
   "cell_type": "code",
   "execution_count": 7,
   "id": "541daa34-c759-4116-8ca6-b3a5f8ec0c3d",
   "metadata": {},
   "outputs": [],
   "source": [
    "from sklearn.pipeline import Pipeline, make_pipeline\n",
    "from sklearn.preprocessing import MinMaxScaler"
   ]
  },
  {
   "cell_type": "code",
   "execution_count": 8,
   "id": "b092e434-26e0-4944-83cb-113ffd1d4a5d",
   "metadata": {},
   "outputs": [],
   "source": [
    "pipe_rfc = make_pipeline(\n",
    "    MinMaxScaler(),\n",
    "    RandomForestClassifier(\n",
    "        n_estimators=300,\n",
    "        criterion='entropy',\n",
    "        max_depth=15,\n",
    "        min_samples_split=8,\n",
    "        min_samples_leaf=3,\n",
    "        max_features='log2',\n",
    "        bootstrap=False,\n",
    "        oob_score=False,\n",
    "        ccp_alpha=0.005\n",
    "    )\n",
    ")"
   ]
  },
  {
   "cell_type": "code",
   "execution_count": 9,
   "id": "0dbc1494-4e68-4258-982c-3c96988294e6",
   "metadata": {},
   "outputs": [],
   "source": [
    "pipe_svmp = make_pipeline(MinMaxScaler(), SVC(C = 4, degree = 2, gamma = 'scale', kernel = 'poly'))"
   ]
  },
  {
   "cell_type": "code",
   "execution_count": 10,
   "id": "c7cbaa10-a068-48d7-a070-ebc258f3f4be",
   "metadata": {},
   "outputs": [],
   "source": [
    "pipe_xgb = make_pipeline(\n",
    "    MinMaxScaler(),\n",
    "    XGBClassifier(\n",
    "        booster='gbtree',\n",
    "        learning_rate=0.1,\n",
    "        n_estimators=200,\n",
    "        max_depth=5,\n",
    "        min_child_weight=2,\n",
    "        gamma=0.1,\n",
    "        subsample=0.9,\n",
    "        colsample_bytree=0.8,\n",
    "        reg_alpha=0.01,\n",
    "        reg_lambda=1.5\n",
    "    )\n",
    ")"
   ]
  },
  {
   "cell_type": "code",
   "execution_count": 11,
   "id": "248d4a94-1b9a-4776-a393-42ddefa71f22",
   "metadata": {},
   "outputs": [
    {
     "name": "stdout",
     "output_type": "stream",
     "text": [
      "SVM Model - Accuracy: 0.7492043284532145, Recall: 0.8199179516197482, Precision: 0.7183046226298179, F1 Score: 0.7657550535077289\n"
     ]
    }
   ],
   "source": [
    "# Train SVM model\n",
    "pipe_svmp.fit(X_train, y_train)\n",
    "svm_preds = pipe_svmp.predict(X_test)\n",
    "\n",
    "# Evaluate SVM model\n",
    "svm_accuracy = accuracy_score(y_test, svm_preds)\n",
    "svm_recall = recall_score(y_test, svm_preds)\n",
    "svm_precision = precision_score(y_test, svm_preds)\n",
    "svm_f1 = f1_score(y_test, svm_preds)\n",
    "\n",
    "print(f\"SVM Model - Accuracy: {svm_accuracy}, Recall: {svm_recall}, Precision: {svm_precision}, F1 Score: {svm_f1}\")"
   ]
  },
  {
   "cell_type": "code",
   "execution_count": 12,
   "id": "ac39c040-cbd4-45c5-b239-cfd6181c3bba",
   "metadata": {},
   "outputs": [
    {
     "name": "stdout",
     "output_type": "stream",
     "text": [
      "XGBoost Model - Accuracy: 0.7540844472734989, Recall: 0.8019521855990946, Precision: 0.7318616059901885, F1 Score: 0.765305433682079\n"
     ]
    }
   ],
   "source": [
    "# Train XGBoost model\n",
    "pipe_xgb.fit(X_train, y_train)\n",
    "xgb_preds = pipe_xgb.predict(X_test)\n",
    "\n",
    "# Evaluate XGBoost model\n",
    "xgb_accuracy = accuracy_score(y_test, xgb_preds)\n",
    "xgb_recall = recall_score(y_test, xgb_preds)\n",
    "xgb_precision = precision_score(y_test, xgb_preds)\n",
    "xgb_f1 = f1_score(y_test, xgb_preds)\n",
    "\n",
    "print(f\"XGBoost Model - Accuracy: {xgb_accuracy}, Recall: {xgb_recall}, Precision: {xgb_precision}, F1 Score: {xgb_f1}\")"
   ]
  },
  {
   "cell_type": "code",
   "execution_count": 13,
   "id": "8104c0e7-ff63-4058-9074-5e355e93361a",
   "metadata": {},
   "outputs": [
    {
     "name": "stdout",
     "output_type": "stream",
     "text": [
      "RandomForest Model - Accuracy: 0.73520050922979, Recall: 0.7803083887395671, Precision: 0.7157129881925522, F1 Score: 0.7466161342717921\n"
     ]
    }
   ],
   "source": [
    "# Train RandomForest model\n",
    "pipe_rfc.fit(X_train, y_train)\n",
    "rf_preds = pipe_rfc.predict(X_test)\n",
    "\n",
    "# Evaluate RandomForest model\n",
    "rf_accuracy = accuracy_score(y_test, rf_preds)\n",
    "rf_recall = recall_score(y_test, rf_preds)\n",
    "rf_precision = precision_score(y_test, rf_preds)\n",
    "rf_f1 = f1_score(y_test, rf_preds)\n",
    "\n",
    "print(f\"RandomForest Model - Accuracy: {rf_accuracy}, Recall: {rf_recall}, Precision: {rf_precision}, F1 Score: {rf_f1}\")"
   ]
  },
  {
   "cell_type": "code",
   "execution_count": 14,
   "id": "a77345dd-0b59-4581-bce3-adbcdb7b0fd9",
   "metadata": {},
   "outputs": [],
   "source": [
    "# Create a list of base estimators\n",
    "base_estimators = [\n",
    "    ('rfc', pipe_rfc.named_steps['randomforestclassifier']),\n",
    "    ('svmp', pipe_svmp.named_steps['svc']),\n",
    "    ('xgb', pipe_xgb.named_steps['xgbclassifier'])\n",
    "]"
   ]
  },
  {
   "cell_type": "markdown",
   "id": "ba0e9424-428b-4bab-b125-a7b7934319ce",
   "metadata": {},
   "source": [
    "#### Implement Boosting using ADABoost"
   ]
  },
  {
   "cell_type": "code",
   "execution_count": 15,
   "id": "a1bead8e-0f51-4978-9790-6431e96076c4",
   "metadata": {},
   "outputs": [],
   "source": [
    "# Create a custom AdaBoost classifier\n",
    "class CustomAdaBoostClassifier(AdaBoostClassifier):\n",
    "    def __init__(self, base_estimators, n_estimators=50, learning_rate=1.0, algorithm='SAMME.R', random_state=None):\n",
    "        self.base_estimators = base_estimators\n",
    "        super().__init__(base_estimator=None, n_estimators=n_estimators, learning_rate=learning_rate, algorithm=algorithm, random_state=random_state)\n",
    "    \n",
    "    def fit(self, X, y):\n",
    "        self.estimators_ = []\n",
    "        self.estimator_weights_ = np.zeros(self.n_estimators, dtype=np.float64)\n",
    "        self.estimator_errors_ = np.ones(self.n_estimators, dtype=np.float64)\n",
    "        \n",
    "        for iboost in range(self.n_estimators):\n",
    "            sample_weight = np.ones(X.shape[0]) / X.shape[0]\n",
    "            estimator = self.base_estimators[iboost % len(self.base_estimators)][1]\n",
    "            estimator.fit(X, y, sample_weight=sample_weight)\n",
    "            y_predict = estimator.predict(X)\n",
    "            incorrect = (y_predict != y)\n",
    "            estimator_error = np.mean(np.average(incorrect, weights=sample_weight, axis=0))\n",
    "            \n",
    "            if estimator_error <= 0:\n",
    "                break\n",
    "                \n",
    "            self.estimator_errors_[iboost] = estimator_error\n",
    "            self.estimator_weights_[iboost] = self.learning_rate * (np.log((1. - estimator_error) / estimator_error))\n",
    "            \n",
    "            if iboost + 1 < self.n_estimators:\n",
    "                sample_weight *= np.exp(self.estimator_weights_[iboost] * incorrect * (sample_weight > 0))\n",
    "                sample_weight /= np.sum(sample_weight)\n",
    "            \n",
    "            self.estimators_.append(estimator)\n",
    "        \n",
    "        return self\n",
    "\n",
    "    def predict(self, X):\n",
    "        pred = sum(weight * estimator.predict(X) for weight, estimator in zip(self.estimator_weights_, self.estimators_))\n",
    "        return np.sign(pred)"
   ]
  },
  {
   "cell_type": "code",
   "execution_count": 16,
   "id": "84a2008e-c98b-49f3-b39c-8c1c1a487b20",
   "metadata": {},
   "outputs": [
    {
     "data": {
      "text/html": [
       "<style>#sk-container-id-1 {color: black;}#sk-container-id-1 pre{padding: 0;}#sk-container-id-1 div.sk-toggleable {background-color: white;}#sk-container-id-1 label.sk-toggleable__label {cursor: pointer;display: block;width: 100%;margin-bottom: 0;padding: 0.3em;box-sizing: border-box;text-align: center;}#sk-container-id-1 label.sk-toggleable__label-arrow:before {content: \"▸\";float: left;margin-right: 0.25em;color: #696969;}#sk-container-id-1 label.sk-toggleable__label-arrow:hover:before {color: black;}#sk-container-id-1 div.sk-estimator:hover label.sk-toggleable__label-arrow:before {color: black;}#sk-container-id-1 div.sk-toggleable__content {max-height: 0;max-width: 0;overflow: hidden;text-align: left;background-color: #f0f8ff;}#sk-container-id-1 div.sk-toggleable__content pre {margin: 0.2em;color: black;border-radius: 0.25em;background-color: #f0f8ff;}#sk-container-id-1 input.sk-toggleable__control:checked~div.sk-toggleable__content {max-height: 200px;max-width: 100%;overflow: auto;}#sk-container-id-1 input.sk-toggleable__control:checked~label.sk-toggleable__label-arrow:before {content: \"▾\";}#sk-container-id-1 div.sk-estimator input.sk-toggleable__control:checked~label.sk-toggleable__label {background-color: #d4ebff;}#sk-container-id-1 div.sk-label input.sk-toggleable__control:checked~label.sk-toggleable__label {background-color: #d4ebff;}#sk-container-id-1 input.sk-hidden--visually {border: 0;clip: rect(1px 1px 1px 1px);clip: rect(1px, 1px, 1px, 1px);height: 1px;margin: -1px;overflow: hidden;padding: 0;position: absolute;width: 1px;}#sk-container-id-1 div.sk-estimator {font-family: monospace;background-color: #f0f8ff;border: 1px dotted black;border-radius: 0.25em;box-sizing: border-box;margin-bottom: 0.5em;}#sk-container-id-1 div.sk-estimator:hover {background-color: #d4ebff;}#sk-container-id-1 div.sk-parallel-item::after {content: \"\";width: 100%;border-bottom: 1px solid gray;flex-grow: 1;}#sk-container-id-1 div.sk-label:hover label.sk-toggleable__label {background-color: #d4ebff;}#sk-container-id-1 div.sk-serial::before {content: \"\";position: absolute;border-left: 1px solid gray;box-sizing: border-box;top: 0;bottom: 0;left: 50%;z-index: 0;}#sk-container-id-1 div.sk-serial {display: flex;flex-direction: column;align-items: center;background-color: white;padding-right: 0.2em;padding-left: 0.2em;position: relative;}#sk-container-id-1 div.sk-item {position: relative;z-index: 1;}#sk-container-id-1 div.sk-parallel {display: flex;align-items: stretch;justify-content: center;background-color: white;position: relative;}#sk-container-id-1 div.sk-item::before, #sk-container-id-1 div.sk-parallel-item::before {content: \"\";position: absolute;border-left: 1px solid gray;box-sizing: border-box;top: 0;bottom: 0;left: 50%;z-index: -1;}#sk-container-id-1 div.sk-parallel-item {display: flex;flex-direction: column;z-index: 1;position: relative;background-color: white;}#sk-container-id-1 div.sk-parallel-item:first-child::after {align-self: flex-end;width: 50%;}#sk-container-id-1 div.sk-parallel-item:last-child::after {align-self: flex-start;width: 50%;}#sk-container-id-1 div.sk-parallel-item:only-child::after {width: 0;}#sk-container-id-1 div.sk-dashed-wrapped {border: 1px dashed gray;margin: 0 0.4em 0.5em 0.4em;box-sizing: border-box;padding-bottom: 0.4em;background-color: white;}#sk-container-id-1 div.sk-label label {font-family: monospace;font-weight: bold;display: inline-block;line-height: 1.2em;}#sk-container-id-1 div.sk-label-container {text-align: center;}#sk-container-id-1 div.sk-container {/* jupyter's `normalize.less` sets `[hidden] { display: none; }` but bootstrap.min.css set `[hidden] { display: none !important; }` so we also need the `!important` here to be able to override the default hidden behavior on the sphinx rendered scikit-learn.org. See: https://github.com/scikit-learn/scikit-learn/issues/21755 */display: inline-block !important;position: relative;}#sk-container-id-1 div.sk-text-repr-fallback {display: none;}</style><div id=\"sk-container-id-1\" class=\"sk-top-container\"><div class=\"sk-text-repr-fallback\"><pre>CustomAdaBoostClassifier(base_estimators=[(&#x27;rfc&#x27;,\n",
       "                                           RandomForestClassifier(bootstrap=False,\n",
       "                                                                  ccp_alpha=0.005,\n",
       "                                                                  criterion=&#x27;entropy&#x27;,\n",
       "                                                                  max_depth=15,\n",
       "                                                                  max_features=&#x27;log2&#x27;,\n",
       "                                                                  min_samples_leaf=3,\n",
       "                                                                  min_samples_split=8,\n",
       "                                                                  n_estimators=300)),\n",
       "                                          (&#x27;svmp&#x27;,\n",
       "                                           SVC(C=4, degree=2, kernel=&#x27;poly&#x27;)),\n",
       "                                          (&#x27;xgb&#x27;,\n",
       "                                           XGBClassifier(base_score=None,\n",
       "                                                         booster=&#x27;gbtree&#x27;,\n",
       "                                                         callbacks=None,\n",
       "                                                         colsample_bylevel=None,\n",
       "                                                         co...\n",
       "                                                         importance_type=None,\n",
       "                                                         interaction_constraints=None,\n",
       "                                                         learning_rate=0.1,\n",
       "                                                         max_bin=None,\n",
       "                                                         max_cat_threshold=None,\n",
       "                                                         max_cat_to_onehot=None,\n",
       "                                                         max_delta_step=None,\n",
       "                                                         max_depth=5,\n",
       "                                                         max_leaves=None,\n",
       "                                                         min_child_weight=2,\n",
       "                                                         missing=nan,\n",
       "                                                         monotone_constraints=None,\n",
       "                                                         n_estimators=200,\n",
       "                                                         n_jobs=None,\n",
       "                                                         num_parallel_tree=None,\n",
       "                                                         predictor=None,\n",
       "                                                         random_state=None, ...))],\n",
       "                         n_estimators=5, random_state=42)</pre><b>In a Jupyter environment, please rerun this cell to show the HTML representation or trust the notebook. <br />On GitHub, the HTML representation is unable to render, please try loading this page with nbviewer.org.</b></div><div class=\"sk-container\" hidden><div class=\"sk-item\"><div class=\"sk-estimator sk-toggleable\"><input class=\"sk-toggleable__control sk-hidden--visually\" id=\"sk-estimator-id-1\" type=\"checkbox\" checked><label for=\"sk-estimator-id-1\" class=\"sk-toggleable__label sk-toggleable__label-arrow\">CustomAdaBoostClassifier</label><div class=\"sk-toggleable__content\"><pre>CustomAdaBoostClassifier(base_estimators=[(&#x27;rfc&#x27;,\n",
       "                                           RandomForestClassifier(bootstrap=False,\n",
       "                                                                  ccp_alpha=0.005,\n",
       "                                                                  criterion=&#x27;entropy&#x27;,\n",
       "                                                                  max_depth=15,\n",
       "                                                                  max_features=&#x27;log2&#x27;,\n",
       "                                                                  min_samples_leaf=3,\n",
       "                                                                  min_samples_split=8,\n",
       "                                                                  n_estimators=300)),\n",
       "                                          (&#x27;svmp&#x27;,\n",
       "                                           SVC(C=4, degree=2, kernel=&#x27;poly&#x27;)),\n",
       "                                          (&#x27;xgb&#x27;,\n",
       "                                           XGBClassifier(base_score=None,\n",
       "                                                         booster=&#x27;gbtree&#x27;,\n",
       "                                                         callbacks=None,\n",
       "                                                         colsample_bylevel=None,\n",
       "                                                         co...\n",
       "                                                         importance_type=None,\n",
       "                                                         interaction_constraints=None,\n",
       "                                                         learning_rate=0.1,\n",
       "                                                         max_bin=None,\n",
       "                                                         max_cat_threshold=None,\n",
       "                                                         max_cat_to_onehot=None,\n",
       "                                                         max_delta_step=None,\n",
       "                                                         max_depth=5,\n",
       "                                                         max_leaves=None,\n",
       "                                                         min_child_weight=2,\n",
       "                                                         missing=nan,\n",
       "                                                         monotone_constraints=None,\n",
       "                                                         n_estimators=200,\n",
       "                                                         n_jobs=None,\n",
       "                                                         num_parallel_tree=None,\n",
       "                                                         predictor=None,\n",
       "                                                         random_state=None, ...))],\n",
       "                         n_estimators=5, random_state=42)</pre></div></div></div></div></div>"
      ],
      "text/plain": [
       "CustomAdaBoostClassifier(base_estimators=[('rfc',\n",
       "                                           RandomForestClassifier(bootstrap=False,\n",
       "                                                                  ccp_alpha=0.005,\n",
       "                                                                  criterion='entropy',\n",
       "                                                                  max_depth=15,\n",
       "                                                                  max_features='log2',\n",
       "                                                                  min_samples_leaf=3,\n",
       "                                                                  min_samples_split=8,\n",
       "                                                                  n_estimators=300)),\n",
       "                                          ('svmp',\n",
       "                                           SVC(C=4, degree=2, kernel='poly')),\n",
       "                                          ('xgb',\n",
       "                                           XGBClassifier(base_score=None,\n",
       "                                                         booster='gbtree',\n",
       "                                                         callbacks=None,\n",
       "                                                         colsample_bylevel=None,\n",
       "                                                         co...\n",
       "                                                         importance_type=None,\n",
       "                                                         interaction_constraints=None,\n",
       "                                                         learning_rate=0.1,\n",
       "                                                         max_bin=None,\n",
       "                                                         max_cat_threshold=None,\n",
       "                                                         max_cat_to_onehot=None,\n",
       "                                                         max_delta_step=None,\n",
       "                                                         max_depth=5,\n",
       "                                                         max_leaves=None,\n",
       "                                                         min_child_weight=2,\n",
       "                                                         missing=nan,\n",
       "                                                         monotone_constraints=None,\n",
       "                                                         n_estimators=200,\n",
       "                                                         n_jobs=None,\n",
       "                                                         num_parallel_tree=None,\n",
       "                                                         predictor=None,\n",
       "                                                         random_state=None, ...))],\n",
       "                         n_estimators=5, random_state=42)"
      ]
     },
     "execution_count": 16,
     "metadata": {},
     "output_type": "execute_result"
    }
   ],
   "source": [
    "# Initialize the custom AdaBoost classifier\n",
    "ada_boost = CustomAdaBoostClassifier(base_estimators=base_estimators, n_estimators=5, learning_rate=1.0, algorithm='SAMME.R', random_state=42)\n",
    "\n",
    "# Train the AdaBoost ensemble\n",
    "ada_boost.fit(X_train, y_train)"
   ]
  },
  {
   "cell_type": "code",
   "execution_count": 17,
   "id": "99f421ea-820c-4fd9-a416-a48fd9b4f210",
   "metadata": {},
   "outputs": [],
   "source": [
    "# Function to calculate metrics\n",
    "def calculate_metrics(y_true, y_pred):\n",
    "    accuracy = accuracy_score(y_true, y_pred)\n",
    "    recall = recall_score(y_true, y_pred)\n",
    "    precision = precision_score(y_true, y_pred)\n",
    "    f1 = f1_score(y_true, y_pred)\n",
    "    return accuracy, recall, precision, f1"
   ]
  },
  {
   "cell_type": "code",
   "execution_count": 19,
   "id": "770fb269-a2e0-4f55-af39-b4c2c7d80ffc",
   "metadata": {},
   "outputs": [],
   "source": [
    "# Calculate metrics for Random Forest\n",
    "rfc_metrics = calculate_metrics(y_test, rf_preds)"
   ]
  },
  {
   "cell_type": "code",
   "execution_count": 21,
   "id": "5f5c6a6b-73d8-4f75-b496-45fd8afc55f2",
   "metadata": {},
   "outputs": [],
   "source": [
    "# Calculate metrics for SVM\n",
    "svmp_metrics = calculate_metrics(y_test, svm_preds)"
   ]
  },
  {
   "cell_type": "code",
   "execution_count": 22,
   "id": "fc778ad3-41de-430f-ae6f-f03a97d868c9",
   "metadata": {},
   "outputs": [],
   "source": [
    "# Calculate metrics for XGBoost\n",
    "xgb_metrics = calculate_metrics(y_test, xgb_preds)"
   ]
  },
  {
   "cell_type": "code",
   "execution_count": 23,
   "id": "6e40cc57-4d55-4c63-9d22-de252adceb4e",
   "metadata": {},
   "outputs": [],
   "source": [
    "# Calculate metrics for AdaBoost ensemble\n",
    "ada_preds = ada_boost.predict(X_test)\n",
    "ada_metrics = calculate_metrics(y_test, ada_preds)"
   ]
  },
  {
   "cell_type": "code",
   "execution_count": 24,
   "id": "b966745e-6bcf-4cef-b048-27aea9d6f74b",
   "metadata": {},
   "outputs": [
    {
     "name": "stdout",
     "output_type": "stream",
     "text": [
      "               Model  Accuracy    Recall  Precision  F1 Score\n",
      "0      Random Forest  0.735201  0.780308   0.715713  0.746616\n",
      "1                SVM  0.749204  0.819918   0.718305  0.765755\n",
      "2            XGBoost  0.754084  0.801952   0.731862  0.765305\n",
      "3  AdaBoost Ensemble  0.736049  0.788513   0.713609  0.749194\n"
     ]
    }
   ],
   "source": [
    "# Create a table of results\n",
    "results = pd.DataFrame({\n",
    "    'Model': ['Random Forest', 'SVM', 'XGBoost', 'AdaBoost Ensemble'],\n",
    "    'Accuracy': [rfc_metrics[0], svmp_metrics[0], xgb_metrics[0], ada_metrics[0]],\n",
    "    'Recall': [rfc_metrics[1], svmp_metrics[1], xgb_metrics[1], ada_metrics[1]],\n",
    "    'Precision': [rfc_metrics[2], svmp_metrics[2], xgb_metrics[2], ada_metrics[2]],\n",
    "    'F1 Score': [rfc_metrics[3], svmp_metrics[3], xgb_metrics[3], ada_metrics[3]]\n",
    "})\n",
    "\n",
    "print(results)"
   ]
  },
  {
   "cell_type": "code",
   "execution_count": null,
   "id": "d0323751-022e-4d14-81ce-3bcb5e2beed8",
   "metadata": {},
   "outputs": [],
   "source": []
  }
 ],
 "metadata": {
  "kernelspec": {
   "display_name": "Python 3",
   "language": "python",
   "name": "python3"
  },
  "language_info": {
   "codemirror_mode": {
    "name": "ipython",
    "version": 3
   },
   "file_extension": ".py",
   "mimetype": "text/x-python",
   "name": "python",
   "nbconvert_exporter": "python",
   "pygments_lexer": "ipython3",
   "version": "3.8.8"
  }
 },
 "nbformat": 4,
 "nbformat_minor": 5
}
