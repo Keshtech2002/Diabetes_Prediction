{
 "cells": [
  {
   "cell_type": "code",
   "execution_count": 1,
   "id": "d369ba90-c955-456d-8312-e37c36a1798b",
   "metadata": {},
   "outputs": [],
   "source": [
    "import numpy as np\n",
    "import pandas as pd\n",
    "import matplotlib.pyplot as plt\n",
    "import seaborn as sns\n",
    "%matplotlib inline\n",
    "import os\n",
    "import warnings\n",
    "warnings.filterwarnings('ignore')"
   ]
  },
  {
   "cell_type": "code",
   "execution_count": 2,
   "id": "fcfc9217-a6db-4e6a-99c8-8ef8c09dc650",
   "metadata": {},
   "outputs": [
    {
     "data": {
      "text/html": [
       "<div>\n",
       "<style scoped>\n",
       "    .dataframe tbody tr th:only-of-type {\n",
       "        vertical-align: middle;\n",
       "    }\n",
       "\n",
       "    .dataframe tbody tr th {\n",
       "        vertical-align: top;\n",
       "    }\n",
       "\n",
       "    .dataframe thead th {\n",
       "        text-align: right;\n",
       "    }\n",
       "</style>\n",
       "<table border=\"1\" class=\"dataframe\">\n",
       "  <thead>\n",
       "    <tr style=\"text-align: right;\">\n",
       "      <th></th>\n",
       "      <th>Diabetes_binary</th>\n",
       "      <th>HighBP</th>\n",
       "      <th>HighChol</th>\n",
       "      <th>CholCheck</th>\n",
       "      <th>BMI</th>\n",
       "      <th>Smoker</th>\n",
       "      <th>Stroke</th>\n",
       "      <th>HeartDiseaseorAttack</th>\n",
       "      <th>PhysActivity</th>\n",
       "      <th>Fruits</th>\n",
       "      <th>...</th>\n",
       "      <th>AnyHealthcare</th>\n",
       "      <th>NoDocbcCost</th>\n",
       "      <th>GenHlth</th>\n",
       "      <th>MentHlth</th>\n",
       "      <th>PhysHlth</th>\n",
       "      <th>DiffWalk</th>\n",
       "      <th>Sex</th>\n",
       "      <th>Age</th>\n",
       "      <th>Education</th>\n",
       "      <th>Income</th>\n",
       "    </tr>\n",
       "  </thead>\n",
       "  <tbody>\n",
       "    <tr>\n",
       "      <th>0</th>\n",
       "      <td>0.0</td>\n",
       "      <td>1.0</td>\n",
       "      <td>0.0</td>\n",
       "      <td>1.0</td>\n",
       "      <td>26.0</td>\n",
       "      <td>0.0</td>\n",
       "      <td>0.0</td>\n",
       "      <td>0.0</td>\n",
       "      <td>1.0</td>\n",
       "      <td>0.0</td>\n",
       "      <td>...</td>\n",
       "      <td>1.0</td>\n",
       "      <td>0.0</td>\n",
       "      <td>3.0</td>\n",
       "      <td>5.0</td>\n",
       "      <td>30.0</td>\n",
       "      <td>0.0</td>\n",
       "      <td>1.0</td>\n",
       "      <td>4.0</td>\n",
       "      <td>6.0</td>\n",
       "      <td>8.0</td>\n",
       "    </tr>\n",
       "    <tr>\n",
       "      <th>1</th>\n",
       "      <td>0.0</td>\n",
       "      <td>1.0</td>\n",
       "      <td>1.0</td>\n",
       "      <td>1.0</td>\n",
       "      <td>26.0</td>\n",
       "      <td>1.0</td>\n",
       "      <td>1.0</td>\n",
       "      <td>0.0</td>\n",
       "      <td>0.0</td>\n",
       "      <td>1.0</td>\n",
       "      <td>...</td>\n",
       "      <td>1.0</td>\n",
       "      <td>0.0</td>\n",
       "      <td>3.0</td>\n",
       "      <td>0.0</td>\n",
       "      <td>0.0</td>\n",
       "      <td>0.0</td>\n",
       "      <td>1.0</td>\n",
       "      <td>12.0</td>\n",
       "      <td>6.0</td>\n",
       "      <td>8.0</td>\n",
       "    </tr>\n",
       "    <tr>\n",
       "      <th>2</th>\n",
       "      <td>0.0</td>\n",
       "      <td>0.0</td>\n",
       "      <td>0.0</td>\n",
       "      <td>1.0</td>\n",
       "      <td>26.0</td>\n",
       "      <td>0.0</td>\n",
       "      <td>0.0</td>\n",
       "      <td>0.0</td>\n",
       "      <td>1.0</td>\n",
       "      <td>1.0</td>\n",
       "      <td>...</td>\n",
       "      <td>1.0</td>\n",
       "      <td>0.0</td>\n",
       "      <td>1.0</td>\n",
       "      <td>0.0</td>\n",
       "      <td>10.0</td>\n",
       "      <td>0.0</td>\n",
       "      <td>1.0</td>\n",
       "      <td>13.0</td>\n",
       "      <td>6.0</td>\n",
       "      <td>8.0</td>\n",
       "    </tr>\n",
       "    <tr>\n",
       "      <th>3</th>\n",
       "      <td>0.0</td>\n",
       "      <td>1.0</td>\n",
       "      <td>1.0</td>\n",
       "      <td>1.0</td>\n",
       "      <td>28.0</td>\n",
       "      <td>1.0</td>\n",
       "      <td>0.0</td>\n",
       "      <td>0.0</td>\n",
       "      <td>1.0</td>\n",
       "      <td>1.0</td>\n",
       "      <td>...</td>\n",
       "      <td>1.0</td>\n",
       "      <td>0.0</td>\n",
       "      <td>3.0</td>\n",
       "      <td>0.0</td>\n",
       "      <td>3.0</td>\n",
       "      <td>0.0</td>\n",
       "      <td>1.0</td>\n",
       "      <td>11.0</td>\n",
       "      <td>6.0</td>\n",
       "      <td>8.0</td>\n",
       "    </tr>\n",
       "    <tr>\n",
       "      <th>4</th>\n",
       "      <td>0.0</td>\n",
       "      <td>0.0</td>\n",
       "      <td>0.0</td>\n",
       "      <td>1.0</td>\n",
       "      <td>29.0</td>\n",
       "      <td>1.0</td>\n",
       "      <td>0.0</td>\n",
       "      <td>0.0</td>\n",
       "      <td>1.0</td>\n",
       "      <td>1.0</td>\n",
       "      <td>...</td>\n",
       "      <td>1.0</td>\n",
       "      <td>0.0</td>\n",
       "      <td>2.0</td>\n",
       "      <td>0.0</td>\n",
       "      <td>0.0</td>\n",
       "      <td>0.0</td>\n",
       "      <td>0.0</td>\n",
       "      <td>8.0</td>\n",
       "      <td>5.0</td>\n",
       "      <td>8.0</td>\n",
       "    </tr>\n",
       "  </tbody>\n",
       "</table>\n",
       "<p>5 rows × 22 columns</p>\n",
       "</div>"
      ],
      "text/plain": [
       "   Diabetes_binary  HighBP  HighChol  CholCheck   BMI  Smoker  Stroke  \\\n",
       "0              0.0     1.0       0.0        1.0  26.0     0.0     0.0   \n",
       "1              0.0     1.0       1.0        1.0  26.0     1.0     1.0   \n",
       "2              0.0     0.0       0.0        1.0  26.0     0.0     0.0   \n",
       "3              0.0     1.0       1.0        1.0  28.0     1.0     0.0   \n",
       "4              0.0     0.0       0.0        1.0  29.0     1.0     0.0   \n",
       "\n",
       "   HeartDiseaseorAttack  PhysActivity  Fruits  ...  AnyHealthcare  \\\n",
       "0                   0.0           1.0     0.0  ...            1.0   \n",
       "1                   0.0           0.0     1.0  ...            1.0   \n",
       "2                   0.0           1.0     1.0  ...            1.0   \n",
       "3                   0.0           1.0     1.0  ...            1.0   \n",
       "4                   0.0           1.0     1.0  ...            1.0   \n",
       "\n",
       "   NoDocbcCost  GenHlth  MentHlth  PhysHlth  DiffWalk  Sex   Age  Education  \\\n",
       "0          0.0      3.0       5.0      30.0       0.0  1.0   4.0        6.0   \n",
       "1          0.0      3.0       0.0       0.0       0.0  1.0  12.0        6.0   \n",
       "2          0.0      1.0       0.0      10.0       0.0  1.0  13.0        6.0   \n",
       "3          0.0      3.0       0.0       3.0       0.0  1.0  11.0        6.0   \n",
       "4          0.0      2.0       0.0       0.0       0.0  0.0   8.0        5.0   \n",
       "\n",
       "   Income  \n",
       "0     8.0  \n",
       "1     8.0  \n",
       "2     8.0  \n",
       "3     8.0  \n",
       "4     8.0  \n",
       "\n",
       "[5 rows x 22 columns]"
      ]
     },
     "execution_count": 2,
     "metadata": {},
     "output_type": "execute_result"
    }
   ],
   "source": [
    "df = pd.read_csv('C:\\\\Users\\\\HP\\\\Documents\\\\KESHTECH\\\\DSML\\\\Projects\\\\Diabetes_Prediction\\\\Diabetes_Classification\\\\Datasets\\\\diabetes_binary_5050split_health_indicators_BRFSS2015.csv')\n",
    "df.head()"
   ]
  },
  {
   "cell_type": "code",
   "execution_count": 3,
   "id": "d255cf1e-9501-4356-a9c4-cb8c3e8e4d4a",
   "metadata": {},
   "outputs": [],
   "source": [
    "from sklearn.neighbors import KNeighborsClassifier\n",
    "from sklearn.ensemble import RandomForestClassifier, AdaBoostClassifier, GradientBoostingClassifier\n",
    "from xgboost import XGBClassifier\n",
    "from sklearn.tree import DecisionTreeClassifier\n",
    "from sklearn.svm import SVC\n",
    "from sklearn.model_selection import StratifiedKFold, RepeatedStratifiedKFold, RandomizedSearchCV, cross_validate, GridSearchCV\n",
    "from sklearn.metrics import classification_report"
   ]
  },
  {
   "cell_type": "code",
   "execution_count": 4,
   "id": "dc1bb3c7-309e-4fdc-a360-9887cb265de2",
   "metadata": {},
   "outputs": [],
   "source": [
    "from sklearn.metrics import accuracy_score\n",
    "from sklearn.metrics import matthews_corrcoef\n",
    "from sklearn.metrics import f1_score, recall_score, precision_score"
   ]
  },
  {
   "cell_type": "code",
   "execution_count": 5,
   "id": "02b47fdd-9d2a-4a38-b860-c34611bb27a2",
   "metadata": {},
   "outputs": [],
   "source": [
    "X = df.drop(columns=\"Diabetes_binary\")\n",
    "y = df[\"Diabetes_binary\"]"
   ]
  },
  {
   "cell_type": "code",
   "execution_count": 6,
   "id": "3fce140b-a691-48a6-baa8-964966588be1",
   "metadata": {},
   "outputs": [
    {
     "name": "stdout",
     "output_type": "stream",
     "text": [
      "(56553, 21)\n",
      "(14139, 21)\n",
      "(56553,)\n",
      "(14139,)\n"
     ]
    }
   ],
   "source": [
    "from sklearn.model_selection import train_test_split\n",
    "X_train, X_test, y_train, y_test = train_test_split(X, y, test_size=0.2, shuffle=True, stratify = y, random_state=42)\n",
    "\n",
    "# check shapes of split\n",
    "print(X_train.shape)\n",
    "print(X_test.shape)\n",
    "print(y_train.shape)\n",
    "print(y_test.shape)"
   ]
  },
  {
   "cell_type": "code",
   "execution_count": 7,
   "id": "10125196-0d48-4c36-9862-7beaecadefbf",
   "metadata": {},
   "outputs": [],
   "source": [
    "from sklearn.pipeline import Pipeline, make_pipeline\n",
    "from sklearn.preprocessing import MinMaxScaler"
   ]
  },
  {
   "cell_type": "code",
   "execution_count": 8,
   "id": "26c7045f-defe-4bfa-be3c-3e0f54d658f4",
   "metadata": {},
   "outputs": [],
   "source": [
    "pipe_rfc = make_pipeline(\n",
    "    MinMaxScaler(),\n",
    "    RandomForestClassifier(\n",
    "        n_estimators=300,\n",
    "        criterion='entropy',\n",
    "        max_depth=15,\n",
    "        min_samples_split=8,\n",
    "        min_samples_leaf=3,\n",
    "        max_features='log2',\n",
    "        bootstrap=False,\n",
    "        oob_score=False,\n",
    "        ccp_alpha=0.005\n",
    "    )\n",
    ")"
   ]
  },
  {
   "cell_type": "code",
   "execution_count": 9,
   "id": "fbdba906-0189-40a9-b455-fb14fe6fea58",
   "metadata": {},
   "outputs": [],
   "source": [
    "pipe_svmp = make_pipeline(MinMaxScaler(), SVC(C = 4, degree = 2, gamma = 'scale', kernel = 'poly'))"
   ]
  },
  {
   "cell_type": "code",
   "execution_count": 10,
   "id": "8cbb1ec6-37cc-489c-a4fc-f6c34879c354",
   "metadata": {},
   "outputs": [],
   "source": [
    "pipe_xgb = make_pipeline(\n",
    "    MinMaxScaler(),\n",
    "    XGBClassifier(\n",
    "        booster='gbtree',\n",
    "        learning_rate=0.1,\n",
    "        n_estimators=200,\n",
    "        max_depth=5,\n",
    "        min_child_weight=2,\n",
    "        gamma=0.1,\n",
    "        subsample=0.9,\n",
    "        colsample_bytree=0.8,\n",
    "        reg_alpha=0.01,\n",
    "        reg_lambda=1.5\n",
    "    )\n",
    ")"
   ]
  },
  {
   "cell_type": "markdown",
   "id": "51bb3b60-9493-4c20-9ae0-f02b20b68f38",
   "metadata": {},
   "source": [
    "#### Implement Bagging with Scikit-learn"
   ]
  },
  {
   "cell_type": "markdown",
   "id": "e5420018-9f71-46e2-86ca-2ddf2952838c",
   "metadata": {},
   "source": [
    "We can use BaggingClassifier to combine these models. Since BaggingClassifier typically works with a single type of base estimator, the approach is to create a custom voting mechanism after training individual models using bagging."
   ]
  },
  {
   "cell_type": "code",
   "execution_count": 11,
   "id": "da391d3f-740a-4bff-86eb-df982a4e7e52",
   "metadata": {},
   "outputs": [],
   "source": [
    "from scipy.stats import mode\n",
    "\n",
    "def majority_vote(predictions):\n",
    "    \"\"\"\n",
    "    Perform majority voting on the predictions.\n",
    "    :param predictions: List of predictions from different models. A 2D array of the models\n",
    "    :return: Final prediction after majority voting.\n",
    "    \"\"\"\n",
    "    return mode(predictions, axis=1)[0].flatten()"
   ]
  },
  {
   "cell_type": "code",
   "execution_count": 12,
   "id": "d9366a0f-373a-4517-ade3-c859fdda05e9",
   "metadata": {},
   "outputs": [],
   "source": [
    "# Number of estimators for bagging\n",
    "n_estimators = 5\n",
    "\n",
    "# Initialize lists to hold models and their predictions\n",
    "bagging_models = []\n",
    "predictions = []"
   ]
  },
  {
   "cell_type": "code",
   "execution_count": 13,
   "id": "7bacda57-e172-4670-9823-d76208064c51",
   "metadata": {},
   "outputs": [],
   "source": [
    "from sklearn.ensemble import BaggingClassifier\n",
    "# Train SVM with bagging\n",
    "svm_bagging = BaggingClassifier(base_estimator=pipe_svmp, n_estimators=n_estimators, random_state=42)\n",
    "svm_bagging.fit(X_train, y_train)\n",
    "svm_preds = svm_bagging.predict(X_test)\n",
    "bagging_models.append(svm_bagging)\n",
    "predictions.append(svm_preds)"
   ]
  },
  {
   "cell_type": "code",
   "execution_count": 14,
   "id": "af9c925d-4af1-4d14-994a-b79ed5f8d833",
   "metadata": {},
   "outputs": [],
   "source": [
    "# Train XGBoost with bagging\n",
    "xgb_bagging = BaggingClassifier(base_estimator=pipe_xgb, n_estimators=n_estimators, random_state=42)\n",
    "xgb_bagging.fit(X_train, y_train)\n",
    "xgb_preds = xgb_bagging.predict(X_test)\n",
    "bagging_models.append(xgb_bagging)\n",
    "predictions.append(xgb_preds)"
   ]
  },
  {
   "cell_type": "code",
   "execution_count": 15,
   "id": "c68bd4e1-190a-4b55-b30c-b6f223890454",
   "metadata": {},
   "outputs": [],
   "source": [
    "# Train Random Forest with bagging\n",
    "rf_bagging = BaggingClassifier(base_estimator=pipe_rfc, n_estimators=n_estimators, random_state=42)\n",
    "rf_bagging.fit(X_train, y_train)\n",
    "rf_preds = rf_bagging.predict(X_test)\n",
    "bagging_models.append(rf_bagging)\n",
    "predictions.append(rf_preds)"
   ]
  },
  {
   "cell_type": "code",
   "execution_count": 16,
   "id": "136801e6-9864-4cac-9ea2-726971cb794a",
   "metadata": {},
   "outputs": [],
   "source": [
    "# Combine predictions from all models\n",
    "combined_predictions = np.array(predictions).T\n",
    "final_predictions = majority_vote(combined_predictions)"
   ]
  },
  {
   "cell_type": "markdown",
   "id": "23207c15-7e19-4191-83be-8d9a8e2909fb",
   "metadata": {},
   "source": [
    "#### Evaluation"
   ]
  },
  {
   "cell_type": "code",
   "execution_count": 17,
   "id": "5eb7490b-47b8-4b62-ba69-6278e19ec207",
   "metadata": {},
   "outputs": [],
   "source": [
    "# Function to evaluate models\n",
    "def evaluate_model(y_true, y_pred):\n",
    "    accuracy = accuracy_score(y_true, y_pred)\n",
    "    recall = recall_score(y_true, y_pred)\n",
    "    precision = precision_score(y_true, y_pred)\n",
    "    f1 = f1_score(y_true, y_pred)\n",
    "    return accuracy, recall, precision, f1"
   ]
  },
  {
   "cell_type": "code",
   "execution_count": 18,
   "id": "c46a18c2-9fc4-4a36-9051-fb59dfed8d45",
   "metadata": {},
   "outputs": [],
   "source": [
    "# Evaluate the final ensemble model\n",
    "ensemble_accuracy, ensemble_recall, ensemble_precision, ensemble_f1 = evaluate_model(y_test, final_predictions)"
   ]
  },
  {
   "cell_type": "code",
   "execution_count": 19,
   "id": "dfd1c93b-743a-48aa-adda-c105e520f853",
   "metadata": {},
   "outputs": [
    {
     "data": {
      "text/html": [
       "<div>\n",
       "<style scoped>\n",
       "    .dataframe tbody tr th:only-of-type {\n",
       "        vertical-align: middle;\n",
       "    }\n",
       "\n",
       "    .dataframe tbody tr th {\n",
       "        vertical-align: top;\n",
       "    }\n",
       "\n",
       "    .dataframe thead th {\n",
       "        text-align: right;\n",
       "    }\n",
       "</style>\n",
       "<table border=\"1\" class=\"dataframe\">\n",
       "  <thead>\n",
       "    <tr style=\"text-align: right;\">\n",
       "      <th></th>\n",
       "      <th>Model</th>\n",
       "      <th>Accuracy</th>\n",
       "      <th>Recall</th>\n",
       "      <th>Precision</th>\n",
       "      <th>F1 Score</th>\n",
       "    </tr>\n",
       "  </thead>\n",
       "  <tbody>\n",
       "    <tr>\n",
       "      <th>0</th>\n",
       "      <td>SVM Bagging</td>\n",
       "      <td>0.749912</td>\n",
       "      <td>0.822040</td>\n",
       "      <td>0.718383</td>\n",
       "      <td>0.766724</td>\n",
       "    </tr>\n",
       "    <tr>\n",
       "      <th>1</th>\n",
       "      <td>XGB Bagging</td>\n",
       "      <td>0.753236</td>\n",
       "      <td>0.800396</td>\n",
       "      <td>0.731386</td>\n",
       "      <td>0.764336</td>\n",
       "    </tr>\n",
       "    <tr>\n",
       "      <th>2</th>\n",
       "      <td>RF Bagging</td>\n",
       "      <td>0.736120</td>\n",
       "      <td>0.782006</td>\n",
       "      <td>0.716248</td>\n",
       "      <td>0.747684</td>\n",
       "    </tr>\n",
       "    <tr>\n",
       "      <th>3</th>\n",
       "      <td>Ensemble</td>\n",
       "      <td>0.751892</td>\n",
       "      <td>0.810157</td>\n",
       "      <td>0.725580</td>\n",
       "      <td>0.765539</td>\n",
       "    </tr>\n",
       "  </tbody>\n",
       "</table>\n",
       "</div>"
      ],
      "text/plain": [
       "         Model  Accuracy    Recall  Precision  F1 Score\n",
       "0  SVM Bagging  0.749912  0.822040   0.718383  0.766724\n",
       "1  XGB Bagging  0.753236  0.800396   0.731386  0.764336\n",
       "2   RF Bagging  0.736120  0.782006   0.716248  0.747684\n",
       "3     Ensemble  0.751892  0.810157   0.725580  0.765539"
      ]
     },
     "execution_count": 19,
     "metadata": {},
     "output_type": "execute_result"
    }
   ],
   "source": [
    "# Create a DataFrame to display the results\n",
    "results = {\n",
    "    'Model': ['SVM Bagging', 'XGB Bagging', 'RF Bagging', 'Ensemble'],\n",
    "    'Accuracy': [accuracy_score(y_test, svm_preds), accuracy_score(y_test, xgb_preds), accuracy_score(y_test, rf_preds), ensemble_accuracy],\n",
    "    'Recall': [recall_score(y_test, svm_preds), recall_score(y_test, xgb_preds), recall_score(y_test, rf_preds), ensemble_recall],\n",
    "    'Precision': [precision_score(y_test, svm_preds), precision_score(y_test, xgb_preds), precision_score(y_test, rf_preds), ensemble_precision],\n",
    "    'F1 Score': [f1_score(y_test, svm_preds), f1_score(y_test, xgb_preds), f1_score(y_test, rf_preds), ensemble_f1]\n",
    "}\n",
    "\n",
    "results_df = pd.DataFrame(results)\n",
    "results_df"
   ]
  },
  {
   "cell_type": "code",
   "execution_count": null,
   "id": "0906279e-0739-4653-ac26-f989c7cba9ed",
   "metadata": {},
   "outputs": [],
   "source": []
  }
 ],
 "metadata": {
  "kernelspec": {
   "display_name": "Python 3",
   "language": "python",
   "name": "python3"
  },
  "language_info": {
   "codemirror_mode": {
    "name": "ipython",
    "version": 3
   },
   "file_extension": ".py",
   "mimetype": "text/x-python",
   "name": "python",
   "nbconvert_exporter": "python",
   "pygments_lexer": "ipython3",
   "version": "3.8.8"
  }
 },
 "nbformat": 4,
 "nbformat_minor": 5
}
