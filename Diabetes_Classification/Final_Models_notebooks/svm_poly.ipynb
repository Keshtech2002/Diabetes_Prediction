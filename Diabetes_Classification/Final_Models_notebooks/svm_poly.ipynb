{
 "cells": [
  {
   "cell_type": "code",
   "execution_count": 1,
   "id": "010f381f-510e-48c2-80ee-767abb85cba9",
   "metadata": {
    "id": "010f381f-510e-48c2-80ee-767abb85cba9"
   },
   "outputs": [],
   "source": [
    "import numpy as np\n",
    "import pandas as pd\n",
    "import matplotlib.pyplot as plt\n",
    "import seaborn as sns\n",
    "%matplotlib inline\n",
    "import os\n",
    "import warnings\n",
    "warnings.filterwarnings('ignore')"
   ]
  },
  {
   "cell_type": "code",
   "execution_count": 2,
   "id": "4b30827f-ebee-4fc3-9e77-43a8e9e5536e",
   "metadata": {
    "colab": {
     "base_uri": "https://localhost:8080/",
     "height": 255
    },
    "id": "4b30827f-ebee-4fc3-9e77-43a8e9e5536e",
    "outputId": "f6dd4fdd-f40c-4969-f8c5-2458ded4ffcd"
   },
   "outputs": [
    {
     "data": {
      "text/html": [
       "<div>\n",
       "<style scoped>\n",
       "    .dataframe tbody tr th:only-of-type {\n",
       "        vertical-align: middle;\n",
       "    }\n",
       "\n",
       "    .dataframe tbody tr th {\n",
       "        vertical-align: top;\n",
       "    }\n",
       "\n",
       "    .dataframe thead th {\n",
       "        text-align: right;\n",
       "    }\n",
       "</style>\n",
       "<table border=\"1\" class=\"dataframe\">\n",
       "  <thead>\n",
       "    <tr style=\"text-align: right;\">\n",
       "      <th></th>\n",
       "      <th>Diabetes_binary</th>\n",
       "      <th>HighBP</th>\n",
       "      <th>HighChol</th>\n",
       "      <th>CholCheck</th>\n",
       "      <th>BMI</th>\n",
       "      <th>Smoker</th>\n",
       "      <th>Stroke</th>\n",
       "      <th>HeartDiseaseorAttack</th>\n",
       "      <th>PhysActivity</th>\n",
       "      <th>Fruits</th>\n",
       "      <th>...</th>\n",
       "      <th>AnyHealthcare</th>\n",
       "      <th>NoDocbcCost</th>\n",
       "      <th>GenHlth</th>\n",
       "      <th>MentHlth</th>\n",
       "      <th>PhysHlth</th>\n",
       "      <th>DiffWalk</th>\n",
       "      <th>Sex</th>\n",
       "      <th>Age</th>\n",
       "      <th>Education</th>\n",
       "      <th>Income</th>\n",
       "    </tr>\n",
       "  </thead>\n",
       "  <tbody>\n",
       "    <tr>\n",
       "      <th>0</th>\n",
       "      <td>0.0</td>\n",
       "      <td>1.0</td>\n",
       "      <td>0.0</td>\n",
       "      <td>1.0</td>\n",
       "      <td>26.0</td>\n",
       "      <td>0.0</td>\n",
       "      <td>0.0</td>\n",
       "      <td>0.0</td>\n",
       "      <td>1.0</td>\n",
       "      <td>0.0</td>\n",
       "      <td>...</td>\n",
       "      <td>1.0</td>\n",
       "      <td>0.0</td>\n",
       "      <td>3.0</td>\n",
       "      <td>5.0</td>\n",
       "      <td>30.0</td>\n",
       "      <td>0.0</td>\n",
       "      <td>1.0</td>\n",
       "      <td>4.0</td>\n",
       "      <td>6.0</td>\n",
       "      <td>8.0</td>\n",
       "    </tr>\n",
       "    <tr>\n",
       "      <th>1</th>\n",
       "      <td>0.0</td>\n",
       "      <td>1.0</td>\n",
       "      <td>1.0</td>\n",
       "      <td>1.0</td>\n",
       "      <td>26.0</td>\n",
       "      <td>1.0</td>\n",
       "      <td>1.0</td>\n",
       "      <td>0.0</td>\n",
       "      <td>0.0</td>\n",
       "      <td>1.0</td>\n",
       "      <td>...</td>\n",
       "      <td>1.0</td>\n",
       "      <td>0.0</td>\n",
       "      <td>3.0</td>\n",
       "      <td>0.0</td>\n",
       "      <td>0.0</td>\n",
       "      <td>0.0</td>\n",
       "      <td>1.0</td>\n",
       "      <td>12.0</td>\n",
       "      <td>6.0</td>\n",
       "      <td>8.0</td>\n",
       "    </tr>\n",
       "    <tr>\n",
       "      <th>2</th>\n",
       "      <td>0.0</td>\n",
       "      <td>0.0</td>\n",
       "      <td>0.0</td>\n",
       "      <td>1.0</td>\n",
       "      <td>26.0</td>\n",
       "      <td>0.0</td>\n",
       "      <td>0.0</td>\n",
       "      <td>0.0</td>\n",
       "      <td>1.0</td>\n",
       "      <td>1.0</td>\n",
       "      <td>...</td>\n",
       "      <td>1.0</td>\n",
       "      <td>0.0</td>\n",
       "      <td>1.0</td>\n",
       "      <td>0.0</td>\n",
       "      <td>10.0</td>\n",
       "      <td>0.0</td>\n",
       "      <td>1.0</td>\n",
       "      <td>13.0</td>\n",
       "      <td>6.0</td>\n",
       "      <td>8.0</td>\n",
       "    </tr>\n",
       "    <tr>\n",
       "      <th>3</th>\n",
       "      <td>0.0</td>\n",
       "      <td>1.0</td>\n",
       "      <td>1.0</td>\n",
       "      <td>1.0</td>\n",
       "      <td>28.0</td>\n",
       "      <td>1.0</td>\n",
       "      <td>0.0</td>\n",
       "      <td>0.0</td>\n",
       "      <td>1.0</td>\n",
       "      <td>1.0</td>\n",
       "      <td>...</td>\n",
       "      <td>1.0</td>\n",
       "      <td>0.0</td>\n",
       "      <td>3.0</td>\n",
       "      <td>0.0</td>\n",
       "      <td>3.0</td>\n",
       "      <td>0.0</td>\n",
       "      <td>1.0</td>\n",
       "      <td>11.0</td>\n",
       "      <td>6.0</td>\n",
       "      <td>8.0</td>\n",
       "    </tr>\n",
       "    <tr>\n",
       "      <th>4</th>\n",
       "      <td>0.0</td>\n",
       "      <td>0.0</td>\n",
       "      <td>0.0</td>\n",
       "      <td>1.0</td>\n",
       "      <td>29.0</td>\n",
       "      <td>1.0</td>\n",
       "      <td>0.0</td>\n",
       "      <td>0.0</td>\n",
       "      <td>1.0</td>\n",
       "      <td>1.0</td>\n",
       "      <td>...</td>\n",
       "      <td>1.0</td>\n",
       "      <td>0.0</td>\n",
       "      <td>2.0</td>\n",
       "      <td>0.0</td>\n",
       "      <td>0.0</td>\n",
       "      <td>0.0</td>\n",
       "      <td>0.0</td>\n",
       "      <td>8.0</td>\n",
       "      <td>5.0</td>\n",
       "      <td>8.0</td>\n",
       "    </tr>\n",
       "  </tbody>\n",
       "</table>\n",
       "<p>5 rows × 22 columns</p>\n",
       "</div>"
      ],
      "text/plain": [
       "   Diabetes_binary  HighBP  HighChol  CholCheck   BMI  Smoker  Stroke  \\\n",
       "0              0.0     1.0       0.0        1.0  26.0     0.0     0.0   \n",
       "1              0.0     1.0       1.0        1.0  26.0     1.0     1.0   \n",
       "2              0.0     0.0       0.0        1.0  26.0     0.0     0.0   \n",
       "3              0.0     1.0       1.0        1.0  28.0     1.0     0.0   \n",
       "4              0.0     0.0       0.0        1.0  29.0     1.0     0.0   \n",
       "\n",
       "   HeartDiseaseorAttack  PhysActivity  Fruits  ...  AnyHealthcare  \\\n",
       "0                   0.0           1.0     0.0  ...            1.0   \n",
       "1                   0.0           0.0     1.0  ...            1.0   \n",
       "2                   0.0           1.0     1.0  ...            1.0   \n",
       "3                   0.0           1.0     1.0  ...            1.0   \n",
       "4                   0.0           1.0     1.0  ...            1.0   \n",
       "\n",
       "   NoDocbcCost  GenHlth  MentHlth  PhysHlth  DiffWalk  Sex   Age  Education  \\\n",
       "0          0.0      3.0       5.0      30.0       0.0  1.0   4.0        6.0   \n",
       "1          0.0      3.0       0.0       0.0       0.0  1.0  12.0        6.0   \n",
       "2          0.0      1.0       0.0      10.0       0.0  1.0  13.0        6.0   \n",
       "3          0.0      3.0       0.0       3.0       0.0  1.0  11.0        6.0   \n",
       "4          0.0      2.0       0.0       0.0       0.0  0.0   8.0        5.0   \n",
       "\n",
       "   Income  \n",
       "0     8.0  \n",
       "1     8.0  \n",
       "2     8.0  \n",
       "3     8.0  \n",
       "4     8.0  \n",
       "\n",
       "[5 rows x 22 columns]"
      ]
     },
     "execution_count": 2,
     "metadata": {},
     "output_type": "execute_result"
    }
   ],
   "source": [
    "df = pd.read_csv('C:\\\\Users\\\\HP\\\\Documents\\\\KESHTECH\\\\DSML\\\\Projects\\\\Diabetes_Prediction\\\\Diabetes_Classification\\\\Datasets\\\\diabetes_binary_5050split_health_indicators_BRFSS2015.csv')\n",
    "\n",
    "df.head()"
   ]
  },
  {
   "cell_type": "code",
   "execution_count": 3,
   "id": "1cd10b66-612c-449e-a4b6-cf1cd90512a0",
   "metadata": {
    "id": "1cd10b66-612c-449e-a4b6-cf1cd90512a0"
   },
   "outputs": [],
   "source": [
    "from sklearn.neighbors import KNeighborsClassifier\n",
    "from sklearn.ensemble import RandomForestClassifier, AdaBoostClassifier, GradientBoostingClassifier\n",
    "from xgboost import XGBClassifier\n",
    "from sklearn.tree import DecisionTreeClassifier\n",
    "from sklearn.svm import SVC\n",
    "from sklearn.model_selection import StratifiedKFold, RepeatedStratifiedKFold, RandomizedSearchCV, cross_validate, GridSearchCV\n",
    "from sklearn.metrics import classification_report"
   ]
  },
  {
   "cell_type": "code",
   "execution_count": 4,
   "id": "9a5e5b2b-2df8-4ed3-b691-3ba26bb9a54c",
   "metadata": {
    "id": "9a5e5b2b-2df8-4ed3-b691-3ba26bb9a54c"
   },
   "outputs": [],
   "source": [
    "X = df.drop(columns=\"Diabetes_binary\")\n",
    "y = df[\"Diabetes_binary\"]"
   ]
  },
  {
   "cell_type": "code",
   "execution_count": 5,
   "id": "956209b8-3f9f-47bc-884a-4974d3ece0a3",
   "metadata": {
    "colab": {
     "base_uri": "https://localhost:8080/"
    },
    "id": "956209b8-3f9f-47bc-884a-4974d3ece0a3",
    "outputId": "37b98391-35b1-4529-a3ac-67f448bf7c29"
   },
   "outputs": [
    {
     "name": "stdout",
     "output_type": "stream",
     "text": [
      "(63622, 21)\n",
      "(7070, 21)\n",
      "(63622,)\n",
      "(7070,)\n"
     ]
    }
   ],
   "source": [
    "from sklearn.model_selection import train_test_split\n",
    "X_train, X_test, y_train, y_test = train_test_split(X, y, test_size=0.1, shuffle=True, stratify = y, random_state=42)\n",
    "\n",
    "# check shapes of split\n",
    "print(X_train.shape)\n",
    "print(X_test.shape)\n",
    "print(y_train.shape)\n",
    "print(y_test.shape)"
   ]
  },
  {
   "cell_type": "code",
   "execution_count": 6,
   "id": "5e6a5c67-968b-4c03-8ecb-b84a43646a7d",
   "metadata": {
    "colab": {
     "base_uri": "https://localhost:8080/"
    },
    "id": "5e6a5c67-968b-4c03-8ecb-b84a43646a7d",
    "outputId": "1dd4615f-fd55-453f-c117-4a7048eb7cde"
   },
   "outputs": [
    {
     "name": "stdout",
     "output_type": "stream",
     "text": [
      "(57259, 21)\n",
      "(6363, 21)\n",
      "(57259,)\n",
      "(6363,)\n"
     ]
    }
   ],
   "source": [
    "X_train_train, X_train_validation, y_train_train, y_train_validation = train_test_split(X_train, y_train, test_size=0.1, stratify = y_train, shuffle=True, random_state=42)\n",
    "\n",
    "# check shapes of split\n",
    "print(X_train_train.shape)\n",
    "print(X_train_validation.shape)\n",
    "print(y_train_train.shape)\n",
    "print(y_train_validation.shape)"
   ]
  },
  {
   "cell_type": "code",
   "execution_count": 7,
   "id": "0bd027b2-00fd-4fc5-91a6-6144ae15ca11",
   "metadata": {
    "id": "0bd027b2-00fd-4fc5-91a6-6144ae15ca11"
   },
   "outputs": [],
   "source": [
    "# Function to plot the results in further sections\n",
    "\n",
    "def plot_score(title, x_label):\n",
    "    # Gather the results of different metrics on the classifier performance\n",
    "    # Define the name of each metric on the figures\n",
    "    training_scores = [train_acc_score, train_f1_score, train_precision_score, train_recall_score]\n",
    "    validation_scores = [validation_acc_score, validation_f1_score, validation_precision_score, validation_recall_score]\n",
    "    label_name = ['accuracy score', 'f1 score', 'precision score', 'recall score']\n",
    "\n",
    "    # subplots\n",
    "    fig, ax = plt.subplots(1, 4, figsize=(40, 10))\n",
    "    axe = ax.ravel()\n",
    "\n",
    "    # loop through the lists and plot the 3 figures with corresponding data\n",
    "    for i, scores in enumerate(zip(training_scores, validation_scores)):\n",
    "\n",
    "        axe[i].plot(list_parameters, scores[0], c='blue')\n",
    "        axe[i].plot(list_parameters, scores[1], c='red')\n",
    "        axe[i].set_title('Influence of ' + title + ' on ' + label_name[i])\n",
    "        axe[i].set_xlabel(x_label)\n",
    "        axe[i].set_ylabel(label_name[i])"
   ]
  },
  {
   "cell_type": "code",
   "execution_count": 8,
   "id": "9c36257b-6a99-406e-8a28-690b6c0fdb2e",
   "metadata": {
    "id": "9c36257b-6a99-406e-8a28-690b6c0fdb2e"
   },
   "outputs": [],
   "source": [
    "# Parameter grid for random forest classifier\n",
    "para_rfc = dict(\n",
    "    estimator__n_estimators=[100, 200, 300, 400, 500],\n",
    "    estimator__criterion=['gini', 'entropy', 'log_loss'],\n",
    "    estimator__max_depth=[*range(1, 20, 2)],\n",
    "    estimator__min_samples_split=[*range(2, 20, 2)],\n",
    "    estimator__min_samples_leaf=[*range(1, 20, 2)],\n",
    "    estimator__max_features=['auto', 'sqrt', 'log2'],\n",
    "    estimator__bootstrap=[True, False],\n",
    "    estimator__oob_score=[True, False],\n",
    "    estimator__ccp_alpha=[a/1000 for a in [*range(0, 15)]]\n",
    ")\n",
    "\n",
    "# Parameter grid for gradient boosting\n",
    "para_gbc = dict(\n",
    "    estimator__loss=['deviance', 'exponential'],\n",
    "    estimator__learning_rate=[0.01, 0.1, 0.2, 0.3],\n",
    "    estimator__n_estimators=[100, 200, 300],\n",
    "    estimator__criterion=['friedman_mse', 'mse', 'mae'],\n",
    "    estimator__max_depth=[*range(1, 10)],\n",
    "    estimator__min_samples_split=[*range(2, 20, 2)],\n",
    "    estimator__min_samples_leaf=[*range(1, 20, 2)],\n",
    "    estimator__subsample=[0.7, 0.8, 0.9, 1.0],\n",
    "    estimator__max_features=['auto', 'sqrt', 'log2']\n",
    ")\n",
    "\n",
    "# Parameter grid for ADABoost\n",
    "para_abc = dict(\n",
    "    estimator__n_estimators=[50, 100, 150, 200],\n",
    "    estimator__learning_rate=[0.01, 0.1, 0.2, 0.3, 1.0],\n",
    "    estimator__algorithm=['SAMME', 'SAMME.R']\n",
    ")\n",
    "\n",
    "\n",
    "# Parameter grid for XGBoost\n",
    "para_xgb = dict(\n",
    "    estimator__booster=['gbtree', 'gblinear', 'dart'],\n",
    "    estimator__learning_rate=[0.01, 0.1, 0.2, 0.3],\n",
    "    estimator__n_estimators=[100, 200, 300],\n",
    "    estimator__max_depth=[*range(1, 20, 2)],\n",
    "    estimator__min_child_weight=[1, 2, 3, 4],\n",
    "    estimator__gamma=[0, 0.1, 0.2, 0.3, 0.4],\n",
    "    estimator__subsample=[0.7, 0.8, 0.9, 1.0],\n",
    "    estimator__colsample_bytree=[0.7, 0.8, 0.9, 1.0],\n",
    "    estimator__reg_alpha=[0, 0.01, 0.1, 1],\n",
    "    estimator__reg_lambda=[1, 1.5, 2, 3]\n",
    ")\n",
    "\n",
    "# parameter grids for decision tree\n",
    "para_dtc = dict(\n",
    "    estimator__criterion=['gini', 'entropy', 'log_loss'],\n",
    "    estimator__splitter=['best', 'random'],\n",
    "    estimator__max_depth=[*range(1, 10)],\n",
    "    estimator__min_samples_split=[*range(10, 20, 10)],\n",
    "    estimator__min_samples_leaf=[*range(10, 20, 10)],\n",
    "    estimator__ccp_alpha=[a/1000 for a in [*range(0, 15)]]\n",
    ")\n",
    "\n",
    "# parameter grids for KNN\n",
    "para_knc = dict(\n",
    "    estimator__n_neighbors=[*range(1,15)],\n",
    "    estimator__weights=['uniform', 'distance'],\n",
    "    estimator__p=[*range(1, 4)]\n",
    ")\n",
    "\n",
    "# parameter grids for SVM with \"rbf\" kernel\n",
    "para_svc_rbf = dict(\n",
    "    estimator__kernel=['rbf'],\n",
    "    estimator__gamma=['scale', 'auto'],\n",
    "    estimator__C = [1, 2, 3, 4, 5]\n",
    ")\n",
    "\n",
    "# parameter grids for SVM with \"poly\" kernel\n",
    "para_svc_poly = dict(\n",
    "    estimator__kernel=['poly'],\n",
    "    estimator__degree=[*range(1, 4)],\n",
    "    estimator__gamma=['scale', 'auto'],\n",
    "    estimator__C = [1, 2, 3, 4, 5]\n",
    ")"
   ]
  },
  {
   "cell_type": "code",
   "execution_count": 9,
   "id": "1d9babe5-4c31-48f1-80b7-2298295c0891",
   "metadata": {
    "id": "1d9babe5-4c31-48f1-80b7-2298295c0891"
   },
   "outputs": [],
   "source": [
    "from sklearn.pipeline import Pipeline, make_pipeline\n",
    "from sklearn.preprocessing import MinMaxScaler\n",
    "\n",
    "def get_pipe(estimator):\n",
    "\n",
    "    \"\"\"\n",
    "    Data passed to this pipeline would be scaled by MinMaxScaler before the classifier\n",
    "    \"\"\"\n",
    "    return Pipeline([('scaler', MinMaxScaler()), ('estimator', estimator)])"
   ]
  },
  {
   "cell_type": "code",
   "execution_count": 10,
   "id": "30b262d8-59bd-4c3e-95e3-4575c2add482",
   "metadata": {
    "id": "30b262d8-59bd-4c3e-95e3-4575c2add482"
   },
   "outputs": [],
   "source": [
    "def nested_cv(clf, para_grid, num_trials=5, num_repeats=5, search_num_split=5, cv_num_split=5):\n",
    "\n",
    "    \"\"\"\n",
    "    Input:\n",
    "    1. clf = classifier\n",
    "    2. para_grid = corresponding grid of hyperparameters\n",
    "    3. num_trials = number of trials for outer cv\n",
    "    4. num_repeats = number of repeats for folds in outer cv\n",
    "    5. search_num_split = number of splits in inner search cv\n",
    "    6. cv_num_split = number of split for outer cv\n",
    "\n",
    "    Output:\n",
    "    Means and standard deviations of\n",
    "    1. fit time\n",
    "    2. score time\n",
    "    3. accuracy score\n",
    "    4. f1 score\n",
    "    5. recall score\n",
    "\n",
    "    Folding strategies are:\n",
    "    Inner cv = StratifiedKFold\n",
    "    Outer cv = RepeatedStratifiedKFold\n",
    "\n",
    "    Search Model = Random Search cv (To save computing resources) but return reasonable robust results at the same time\n",
    "    Number of iteration in the search model (Number of random parameter samples) = 10\n",
    "\n",
    "    F1 score is chosen to be the refit metrics in search cv\n",
    "    Although recall score is the most important score, the model might be trained to classify all the input as positive to avoid any false negative.\n",
    "    (High Recall scores but lower precision score)\n",
    "\n",
    "    Process:\n",
    "    Classifier is fitted to pipeline function, \"get_pipe\"\n",
    "    \"\"\"\n",
    "\n",
    "    # fit classifier to pipeline function defined previously\n",
    "    pipe = get_pipe(clf)\n",
    "\n",
    "    # prepare empty lists to store the results\n",
    "    fit_time, score_time = [], []\n",
    "    test_score_acc, test_score_f1, test_score_recall = [], [], []\n",
    "\n",
    "    # apply for loop to run the whole nested cv\n",
    "    for i in range(num_trials):\n",
    "\n",
    "        # Fold method for inner cv\n",
    "        skf = StratifiedKFold(\n",
    "            n_splits=search_num_split,\n",
    "            shuffle=True,\n",
    "            random_state=73+i\n",
    "        )\n",
    "\n",
    "        # Fold method of outer cv\n",
    "        rskf = RepeatedStratifiedKFold(\n",
    "            n_splits=cv_num_split,\n",
    "            n_repeats=num_repeats,\n",
    "            random_state=73+i\n",
    "        )\n",
    "\n",
    "        # fit pipeline to search cv\n",
    "        # fit the corresponding parameter grids to the classifier\n",
    "        # use StratifiedKFold be splitting strategy\n",
    "        # use f1 as refit score to search the best hyperparameter combinations\n",
    "        search_cv = RandomizedSearchCV(\n",
    "            estimator=pipe,\n",
    "            param_distributions=para_grid,\n",
    "            cv=skf,\n",
    "            scoring=\"f1\",\n",
    "            refit=\"f1\",\n",
    "            random_state=73+i\n",
    "        )\n",
    "\n",
    "        # fit X_train and y_train data to cv\n",
    "        # X_train is not scaled here, but is scaled when passes through pipeline inside random search cv\n",
    "        # track 3 metrics\n",
    "        cv = cross_validate(\n",
    "            estimator=search_cv,\n",
    "            X=X_train,\n",
    "            y=y_train,\n",
    "            cv=rskf,\n",
    "            scoring=[\"accuracy\", \"f1\", \"recall\"]\n",
    "        )\n",
    "\n",
    "        # Store results to the corresponding lists prepared\n",
    "        fit_time.append(cv['fit_time'])\n",
    "        score_time.append(cv['score_time'])\n",
    "        test_score_acc.append(cv['test_accuracy'])\n",
    "        test_score_f1.append(cv['test_f1'])\n",
    "        test_score_recall.append(cv['test_recall'])\n",
    "\n",
    "\n",
    "    # Store mean fit and score time\n",
    "    mean_fit_time = np.mean(np.array(fit_time).flatten())\n",
    "    mean_score_time = np.mean(np.array(fit_time).flatten())\n",
    "\n",
    "    # Store mean and standard deviation of accuracy score\n",
    "    mean_test_score_acc = np.mean(np.array(test_score_acc).flatten())\n",
    "    std_test_score_acc = np.std(np.array(test_score_acc).flatten())\n",
    "\n",
    "    # Store mean and standard deviation of f1 score\n",
    "    mean_test_score_f1 = np.mean(np.array(test_score_f1).flatten())\n",
    "    std_test_score_f1 = np.std(np.array(test_score_f1).flatten())\n",
    "\n",
    "    # Store mean and standard deviation of recall score\n",
    "    mean_test_score_recall = np.mean(np.array(test_score_recall).flatten())\n",
    "    std_test_score_recall = np.std(np.array(test_score_recall).flatten())\n",
    "\n",
    "    # return all the results stored\n",
    "    return [mean_fit_time, mean_score_time, mean_test_score_acc, std_test_score_acc, mean_test_score_f1, std_test_score_f1, mean_test_score_recall, std_test_score_recall]"
   ]
  },
  {
   "cell_type": "markdown",
   "id": "fbd875f2-6004-4579-9b29-299b69788b69",
   "metadata": {
    "id": "fbd875f2-6004-4579-9b29-299b69788b69"
   },
   "source": [
    "#### SVM poly - Grid Search CV"
   ]
  },
  {
   "cell_type": "code",
   "execution_count": null,
   "id": "b501be5a-ac80-45ee-96c6-903b6199d176",
   "metadata": {
    "id": "b501be5a-ac80-45ee-96c6-903b6199d176"
   },
   "outputs": [],
   "source": [
    "# # fit the final production model to pipeline\n",
    "# # input data is scaled by MinMaxScaler in each split in CV\n",
    "# pipe = get_pipe(SVC())\n",
    "\n",
    "# # prepare grid of parameters and split numbers\n",
    "# para_grid = para_svc_poly\n",
    "# num_splits = 5\n",
    "# num_repeats = 5\n",
    "\n",
    "# # Fold strategy for outer cv\n",
    "# rskf = RepeatedStratifiedKFold(\n",
    "#     n_splits=num_splits,\n",
    "#     n_repeats=num_repeats,\n",
    "#     random_state=73\n",
    "# )\n",
    "\n",
    "# # fit pipeline and grid to Grid Search CV\n",
    "# search_cv = GridSearchCV(\n",
    "#     estimator=pipe,\n",
    "#     param_grid=para_grid,\n",
    "#     return_train_score=True,\n",
    "#     scoring=[\"accuracy\", \"f1\", \"recall\"],\n",
    "#     refit='f1',\n",
    "#     cv=rskf,\n",
    "#     n_jobs=4\n",
    "# )\n",
    "\n",
    "# # fit original training set to the search model\n",
    "# search_cv.fit(X_train, y_train)"
   ]
  },
  {
   "cell_type": "markdown",
   "id": "b5bb8f2e-cfa1-43a4-a710-8ea6678e8bf0",
   "metadata": {
    "id": "b5bb8f2e-cfa1-43a4-a710-8ea6678e8bf0"
   },
   "source": [
    "#### Best Hyperparameters"
   ]
  },
  {
   "cell_type": "code",
   "execution_count": null,
   "id": "c4a61a42-4119-4718-bde3-524520495e8b",
   "metadata": {
    "id": "c4a61a42-4119-4718-bde3-524520495e8b"
   },
   "outputs": [],
   "source": [
    "# # Checking the combination of parameters, which generated the best result\n",
    "# print(search_cv.best_params_)"
   ]
  },
  {
   "cell_type": "code",
   "execution_count": 12,
   "id": "575e19ec-d171-4391-863b-5ea62634369a",
   "metadata": {
    "id": "575e19ec-d171-4391-863b-5ea62634369a"
   },
   "outputs": [
    {
     "data": {
      "text/html": [
       "<style>#sk-container-id-1 {color: black;}#sk-container-id-1 pre{padding: 0;}#sk-container-id-1 div.sk-toggleable {background-color: white;}#sk-container-id-1 label.sk-toggleable__label {cursor: pointer;display: block;width: 100%;margin-bottom: 0;padding: 0.3em;box-sizing: border-box;text-align: center;}#sk-container-id-1 label.sk-toggleable__label-arrow:before {content: \"▸\";float: left;margin-right: 0.25em;color: #696969;}#sk-container-id-1 label.sk-toggleable__label-arrow:hover:before {color: black;}#sk-container-id-1 div.sk-estimator:hover label.sk-toggleable__label-arrow:before {color: black;}#sk-container-id-1 div.sk-toggleable__content {max-height: 0;max-width: 0;overflow: hidden;text-align: left;background-color: #f0f8ff;}#sk-container-id-1 div.sk-toggleable__content pre {margin: 0.2em;color: black;border-radius: 0.25em;background-color: #f0f8ff;}#sk-container-id-1 input.sk-toggleable__control:checked~div.sk-toggleable__content {max-height: 200px;max-width: 100%;overflow: auto;}#sk-container-id-1 input.sk-toggleable__control:checked~label.sk-toggleable__label-arrow:before {content: \"▾\";}#sk-container-id-1 div.sk-estimator input.sk-toggleable__control:checked~label.sk-toggleable__label {background-color: #d4ebff;}#sk-container-id-1 div.sk-label input.sk-toggleable__control:checked~label.sk-toggleable__label {background-color: #d4ebff;}#sk-container-id-1 input.sk-hidden--visually {border: 0;clip: rect(1px 1px 1px 1px);clip: rect(1px, 1px, 1px, 1px);height: 1px;margin: -1px;overflow: hidden;padding: 0;position: absolute;width: 1px;}#sk-container-id-1 div.sk-estimator {font-family: monospace;background-color: #f0f8ff;border: 1px dotted black;border-radius: 0.25em;box-sizing: border-box;margin-bottom: 0.5em;}#sk-container-id-1 div.sk-estimator:hover {background-color: #d4ebff;}#sk-container-id-1 div.sk-parallel-item::after {content: \"\";width: 100%;border-bottom: 1px solid gray;flex-grow: 1;}#sk-container-id-1 div.sk-label:hover label.sk-toggleable__label {background-color: #d4ebff;}#sk-container-id-1 div.sk-serial::before {content: \"\";position: absolute;border-left: 1px solid gray;box-sizing: border-box;top: 0;bottom: 0;left: 50%;z-index: 0;}#sk-container-id-1 div.sk-serial {display: flex;flex-direction: column;align-items: center;background-color: white;padding-right: 0.2em;padding-left: 0.2em;position: relative;}#sk-container-id-1 div.sk-item {position: relative;z-index: 1;}#sk-container-id-1 div.sk-parallel {display: flex;align-items: stretch;justify-content: center;background-color: white;position: relative;}#sk-container-id-1 div.sk-item::before, #sk-container-id-1 div.sk-parallel-item::before {content: \"\";position: absolute;border-left: 1px solid gray;box-sizing: border-box;top: 0;bottom: 0;left: 50%;z-index: -1;}#sk-container-id-1 div.sk-parallel-item {display: flex;flex-direction: column;z-index: 1;position: relative;background-color: white;}#sk-container-id-1 div.sk-parallel-item:first-child::after {align-self: flex-end;width: 50%;}#sk-container-id-1 div.sk-parallel-item:last-child::after {align-self: flex-start;width: 50%;}#sk-container-id-1 div.sk-parallel-item:only-child::after {width: 0;}#sk-container-id-1 div.sk-dashed-wrapped {border: 1px dashed gray;margin: 0 0.4em 0.5em 0.4em;box-sizing: border-box;padding-bottom: 0.4em;background-color: white;}#sk-container-id-1 div.sk-label label {font-family: monospace;font-weight: bold;display: inline-block;line-height: 1.2em;}#sk-container-id-1 div.sk-label-container {text-align: center;}#sk-container-id-1 div.sk-container {/* jupyter's `normalize.less` sets `[hidden] { display: none; }` but bootstrap.min.css set `[hidden] { display: none !important; }` so we also need the `!important` here to be able to override the default hidden behavior on the sphinx rendered scikit-learn.org. See: https://github.com/scikit-learn/scikit-learn/issues/21755 */display: inline-block !important;position: relative;}#sk-container-id-1 div.sk-text-repr-fallback {display: none;}</style><div id=\"sk-container-id-1\" class=\"sk-top-container\"><div class=\"sk-text-repr-fallback\"><pre>Pipeline(steps=[(&#x27;minmaxscaler&#x27;, MinMaxScaler()),\n",
       "                (&#x27;svc&#x27;, SVC(C=4, degree=2, kernel=&#x27;poly&#x27;))])</pre><b>In a Jupyter environment, please rerun this cell to show the HTML representation or trust the notebook. <br />On GitHub, the HTML representation is unable to render, please try loading this page with nbviewer.org.</b></div><div class=\"sk-container\" hidden><div class=\"sk-item sk-dashed-wrapped\"><div class=\"sk-label-container\"><div class=\"sk-label sk-toggleable\"><input class=\"sk-toggleable__control sk-hidden--visually\" id=\"sk-estimator-id-1\" type=\"checkbox\" ><label for=\"sk-estimator-id-1\" class=\"sk-toggleable__label sk-toggleable__label-arrow\">Pipeline</label><div class=\"sk-toggleable__content\"><pre>Pipeline(steps=[(&#x27;minmaxscaler&#x27;, MinMaxScaler()),\n",
       "                (&#x27;svc&#x27;, SVC(C=4, degree=2, kernel=&#x27;poly&#x27;))])</pre></div></div></div><div class=\"sk-serial\"><div class=\"sk-item\"><div class=\"sk-estimator sk-toggleable\"><input class=\"sk-toggleable__control sk-hidden--visually\" id=\"sk-estimator-id-2\" type=\"checkbox\" ><label for=\"sk-estimator-id-2\" class=\"sk-toggleable__label sk-toggleable__label-arrow\">MinMaxScaler</label><div class=\"sk-toggleable__content\"><pre>MinMaxScaler()</pre></div></div></div><div class=\"sk-item\"><div class=\"sk-estimator sk-toggleable\"><input class=\"sk-toggleable__control sk-hidden--visually\" id=\"sk-estimator-id-3\" type=\"checkbox\" ><label for=\"sk-estimator-id-3\" class=\"sk-toggleable__label sk-toggleable__label-arrow\">SVC</label><div class=\"sk-toggleable__content\"><pre>SVC(C=4, degree=2, kernel=&#x27;poly&#x27;)</pre></div></div></div></div></div></div></div>"
      ],
      "text/plain": [
       "Pipeline(steps=[('minmaxscaler', MinMaxScaler()),\n",
       "                ('svc', SVC(C=4, degree=2, kernel='poly'))])"
      ]
     },
     "execution_count": 12,
     "metadata": {},
     "output_type": "execute_result"
    }
   ],
   "source": [
    "# Using pipeline to fit the model with MinMaxScaling\n",
    "# Fitting original training set to the best model\n",
    "\n",
    "# best_clf = search_cv.best_estimator_\n",
    "# pipe_clf = make_pipeline(MinMaxScaler(), best_clf)\n",
    "\n",
    "pipe_clf = make_pipeline(MinMaxScaler(), SVC(C = 4, degree = 2, gamma = 'scale', kernel = 'poly'))\n",
    "pipe_clf.fit(X_train, y_train)"
   ]
  },
  {
   "cell_type": "code",
   "execution_count": 13,
   "id": "ad97b19a-cb55-4573-ae74-44b2ee3dcadf",
   "metadata": {
    "id": "ad97b19a-cb55-4573-ae74-44b2ee3dcadf"
   },
   "outputs": [
    {
     "name": "stdout",
     "output_type": "stream",
     "text": [
      "              precision    recall  f1-score   support\n",
      "\n",
      "         0.0       0.80      0.68      0.73     31811\n",
      "         1.0       0.72      0.83      0.77     31811\n",
      "\n",
      "    accuracy                           0.75     63622\n",
      "   macro avg       0.76      0.75      0.75     63622\n",
      "weighted avg       0.76      0.75      0.75     63622\n",
      "\n"
     ]
    }
   ],
   "source": [
    "# result of fitting original training set\n",
    "print(classification_report(y_train, pipe_clf.predict(X_train)))"
   ]
  },
  {
   "cell_type": "markdown",
   "id": "1560a47d-ed07-4d4c-b1bd-de01ee872294",
   "metadata": {
    "id": "1560a47d-ed07-4d4c-b1bd-de01ee872294"
   },
   "source": [
    "##### Test Set"
   ]
  },
  {
   "cell_type": "code",
   "execution_count": 14,
   "id": "ded196fb-44da-4b83-90a6-076b54aa437e",
   "metadata": {
    "id": "ded196fb-44da-4b83-90a6-076b54aa437e"
   },
   "outputs": [
    {
     "name": "stdout",
     "output_type": "stream",
     "text": [
      "              precision    recall  f1-score   support\n",
      "\n",
      "         0.0       0.80      0.67      0.73      3535\n",
      "         1.0       0.71      0.83      0.77      3535\n",
      "\n",
      "    accuracy                           0.75      7070\n",
      "   macro avg       0.75      0.75      0.75      7070\n",
      "weighted avg       0.75      0.75      0.75      7070\n",
      "\n"
     ]
    }
   ],
   "source": [
    "# result of fitting original testing set\n",
    "print(classification_report(y_test, pipe_clf.predict(X_test)))"
   ]
  },
  {
   "cell_type": "code",
   "execution_count": 22,
   "id": "5268fdf1-689c-43a8-9047-7bcd729d779e",
   "metadata": {},
   "outputs": [],
   "source": [
    "svc_model = pipe_clf.named_steps['svc']\n",
    "# Get the indices of support vectors\n",
    "support_vectors_indices = svc_model.support_"
   ]
  },
  {
   "cell_type": "code",
   "execution_count": 23,
   "id": "87aebca5-8df4-453c-8944-de183b0eb87c",
   "metadata": {},
   "outputs": [
    {
     "data": {
      "text/plain": [
       "array([    0,     1,     3, ..., 63617, 63619, 63620])"
      ]
     },
     "execution_count": 23,
     "metadata": {},
     "output_type": "execute_result"
    }
   ],
   "source": [
    "support_vectors_indices"
   ]
  },
  {
   "cell_type": "code",
   "execution_count": 24,
   "id": "40ba2228-18bf-40c4-8dde-e5d38370a7ab",
   "metadata": {},
   "outputs": [],
   "source": [
    "# Extract the support vectors from the feature matrix\n",
    "support_vectors = X_train.iloc[support_vectors_indices]\n",
    "\n",
    "distances = svc_model.decision_function(X_train)\n",
    "feature_weights = np.abs(distances).mean(axis=0)"
   ]
  },
  {
   "cell_type": "code",
   "execution_count": 25,
   "id": "812e3167-95ea-427a-96e1-f224354cf6fe",
   "metadata": {},
   "outputs": [
    {
     "data": {
      "text/html": [
       "<div>\n",
       "<style scoped>\n",
       "    .dataframe tbody tr th:only-of-type {\n",
       "        vertical-align: middle;\n",
       "    }\n",
       "\n",
       "    .dataframe tbody tr th {\n",
       "        vertical-align: top;\n",
       "    }\n",
       "\n",
       "    .dataframe thead th {\n",
       "        text-align: right;\n",
       "    }\n",
       "</style>\n",
       "<table border=\"1\" class=\"dataframe\">\n",
       "  <thead>\n",
       "    <tr style=\"text-align: right;\">\n",
       "      <th></th>\n",
       "      <th>Feature</th>\n",
       "      <th>Weight</th>\n",
       "    </tr>\n",
       "  </thead>\n",
       "  <tbody>\n",
       "    <tr>\n",
       "      <th>0</th>\n",
       "      <td>HighBP</td>\n",
       "      <td>1746.751551</td>\n",
       "    </tr>\n",
       "    <tr>\n",
       "      <th>1</th>\n",
       "      <td>HighChol</td>\n",
       "      <td>1746.751551</td>\n",
       "    </tr>\n",
       "    <tr>\n",
       "      <th>2</th>\n",
       "      <td>CholCheck</td>\n",
       "      <td>1746.751551</td>\n",
       "    </tr>\n",
       "    <tr>\n",
       "      <th>3</th>\n",
       "      <td>BMI</td>\n",
       "      <td>1746.751551</td>\n",
       "    </tr>\n",
       "    <tr>\n",
       "      <th>4</th>\n",
       "      <td>Smoker</td>\n",
       "      <td>1746.751551</td>\n",
       "    </tr>\n",
       "    <tr>\n",
       "      <th>5</th>\n",
       "      <td>Stroke</td>\n",
       "      <td>1746.751551</td>\n",
       "    </tr>\n",
       "    <tr>\n",
       "      <th>6</th>\n",
       "      <td>HeartDiseaseorAttack</td>\n",
       "      <td>1746.751551</td>\n",
       "    </tr>\n",
       "    <tr>\n",
       "      <th>7</th>\n",
       "      <td>PhysActivity</td>\n",
       "      <td>1746.751551</td>\n",
       "    </tr>\n",
       "    <tr>\n",
       "      <th>8</th>\n",
       "      <td>Fruits</td>\n",
       "      <td>1746.751551</td>\n",
       "    </tr>\n",
       "    <tr>\n",
       "      <th>9</th>\n",
       "      <td>Veggies</td>\n",
       "      <td>1746.751551</td>\n",
       "    </tr>\n",
       "    <tr>\n",
       "      <th>10</th>\n",
       "      <td>HvyAlcoholConsump</td>\n",
       "      <td>1746.751551</td>\n",
       "    </tr>\n",
       "    <tr>\n",
       "      <th>11</th>\n",
       "      <td>AnyHealthcare</td>\n",
       "      <td>1746.751551</td>\n",
       "    </tr>\n",
       "    <tr>\n",
       "      <th>12</th>\n",
       "      <td>NoDocbcCost</td>\n",
       "      <td>1746.751551</td>\n",
       "    </tr>\n",
       "    <tr>\n",
       "      <th>13</th>\n",
       "      <td>GenHlth</td>\n",
       "      <td>1746.751551</td>\n",
       "    </tr>\n",
       "    <tr>\n",
       "      <th>14</th>\n",
       "      <td>MentHlth</td>\n",
       "      <td>1746.751551</td>\n",
       "    </tr>\n",
       "    <tr>\n",
       "      <th>15</th>\n",
       "      <td>PhysHlth</td>\n",
       "      <td>1746.751551</td>\n",
       "    </tr>\n",
       "    <tr>\n",
       "      <th>16</th>\n",
       "      <td>DiffWalk</td>\n",
       "      <td>1746.751551</td>\n",
       "    </tr>\n",
       "    <tr>\n",
       "      <th>17</th>\n",
       "      <td>Sex</td>\n",
       "      <td>1746.751551</td>\n",
       "    </tr>\n",
       "    <tr>\n",
       "      <th>18</th>\n",
       "      <td>Age</td>\n",
       "      <td>1746.751551</td>\n",
       "    </tr>\n",
       "    <tr>\n",
       "      <th>19</th>\n",
       "      <td>Education</td>\n",
       "      <td>1746.751551</td>\n",
       "    </tr>\n",
       "    <tr>\n",
       "      <th>20</th>\n",
       "      <td>Income</td>\n",
       "      <td>1746.751551</td>\n",
       "    </tr>\n",
       "  </tbody>\n",
       "</table>\n",
       "</div>"
      ],
      "text/plain": [
       "                 Feature       Weight\n",
       "0                 HighBP  1746.751551\n",
       "1               HighChol  1746.751551\n",
       "2              CholCheck  1746.751551\n",
       "3                    BMI  1746.751551\n",
       "4                 Smoker  1746.751551\n",
       "5                 Stroke  1746.751551\n",
       "6   HeartDiseaseorAttack  1746.751551\n",
       "7           PhysActivity  1746.751551\n",
       "8                 Fruits  1746.751551\n",
       "9                Veggies  1746.751551\n",
       "10     HvyAlcoholConsump  1746.751551\n",
       "11         AnyHealthcare  1746.751551\n",
       "12           NoDocbcCost  1746.751551\n",
       "13               GenHlth  1746.751551\n",
       "14              MentHlth  1746.751551\n",
       "15              PhysHlth  1746.751551\n",
       "16              DiffWalk  1746.751551\n",
       "17                   Sex  1746.751551\n",
       "18                   Age  1746.751551\n",
       "19             Education  1746.751551\n",
       "20                Income  1746.751551"
      ]
     },
     "execution_count": 25,
     "metadata": {},
     "output_type": "execute_result"
    }
   ],
   "source": [
    "# Create a DataFrame to hold feature names and their corresponding weights\n",
    "feature_names = X_train.columns  # Assuming you have column names\n",
    "feature_importance_df = pd.DataFrame({'Feature': feature_names, 'Weight': feature_weights})\n",
    "feature_importance_df"
   ]
  },
  {
   "cell_type": "code",
   "execution_count": 26,
   "id": "b7717607-02d7-4239-b736-d228db096dc8",
   "metadata": {},
   "outputs": [
    {
     "data": {
      "image/png": "[encoded data removed]",
      "text/plain": [
       "<Figure size 720x576 with 1 Axes>"
      ]
     },
     "metadata": {
      "needs_background": "light"
     },
     "output_type": "display_data"
    }
   ],
   "source": [
    "plt.figure(figsize=(10, 8))\n",
    "plt.barh(feature_importance_df['Feature'], feature_importance_df['Weight'])\n",
    "plt.xlabel('Feature Importance')\n",
    "plt.ylabel('Features')\n",
    "plt.title('Feature Importance Analysis')\n",
    "plt.show()"
   ]
  },
  {
   "cell_type": "code",
   "execution_count": null,
   "id": "6be7e91f-cdd8-497f-86c4-dc915fd9920b",
   "metadata": {},
   "outputs": [],
   "source": []
  }
 ],
 "metadata": {
  "colab": {
   "provenance": []
  },
  "kernelspec": {
   "display_name": "Python 3",
   "language": "python",
   "name": "python3"
  },
  "language_info": {
   "codemirror_mode": {
    "name": "ipython",
    "version": 3
   },
   "file_extension": ".py",
   "mimetype": "text/x-python",
   "name": "python",
   "nbconvert_exporter": "python",
   "pygments_lexer": "ipython3",
   "version": "3.8.8"
  }
 },
 "nbformat": 4,
 "nbformat_minor": 5
}
