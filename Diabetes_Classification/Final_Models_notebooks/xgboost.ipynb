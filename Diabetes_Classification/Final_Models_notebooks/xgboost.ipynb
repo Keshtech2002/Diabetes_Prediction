{
  "metadata": {
    "kernelspec": {
      "display_name": "Python 3",
      "language": "python",
      "name": "python3"
    },
    "language_info": {
      "codemirror_mode": {
        "name": "ipython",
        "version": 3
      },
      "file_extension": ".py",
      "mimetype": "text/x-python",
      "name": "python",
      "nbconvert_exporter": "python",
      "pygments_lexer": "ipython3",
      "version": "3.8.8"
    },
    "kaggle": {
      "accelerator": "none",
      "dataSources": [
        {
          "sourceId": 8565405,
          "sourceType": "datasetVersion",
          "datasetId": 5120660
        }
      ],
      "dockerImageVersionId": 30715,
      "isInternetEnabled": true,
      "language": "python",
      "sourceType": "notebook",
      "isGpuEnabled": false
    },
    "colab": {
      "provenance": []
    }
  },
  "nbformat_minor": 5,
  "nbformat": 4,
  "cells": [
    {
      "cell_type": "code",
      "source": [
        "import numpy as np\n",
        "import pandas as pd\n",
        "import matplotlib.pyplot as plt\n",
        "import seaborn as sns\n",
        "%matplotlib inline\n",
        "import os\n",
        "import warnings\n",
        "warnings.filterwarnings('ignore')"
      ],
      "metadata": {
        "id": "9b3f6acd-96d3-4ec5-b029-bb46ea5f62b9",
        "execution": {
          "iopub.status.busy": "2024-05-31T00:47:08.053516Z",
          "iopub.execute_input": "2024-05-31T00:47:08.053897Z",
          "iopub.status.idle": "2024-05-31T00:47:08.062838Z",
          "shell.execute_reply.started": "2024-05-31T00:47:08.053871Z",
          "shell.execute_reply": "2024-05-31T00:47:08.061257Z"
        },
        "trusted": true
      },
      "execution_count": null,
      "outputs": [],
      "id": "9b3f6acd-96d3-4ec5-b029-bb46ea5f62b9"
    },
    {
      "cell_type": "code",
      "source": [
        "df = pd.read_csv('diabetes_binary_5050split_health_indicators_BRFSS2015.csv')\n",
        "df.head()"
      ],
      "metadata": {
        "colab": {
          "base_uri": "https://localhost:8080/",
          "height": 255
        },
        "id": "858a4318-73f8-48d9-b5a5-ddc5b1b409e1",
        "outputId": "d98e03fd-de0e-4330-bab2-c0b16b0ea6d0",
        "execution": {
          "iopub.status.busy": "2024-05-31T01:06:59.276789Z",
          "iopub.execute_input": "2024-05-31T01:06:59.277293Z",
          "iopub.status.idle": "2024-05-31T01:06:59.692789Z",
          "shell.execute_reply.started": "2024-05-31T01:06:59.277248Z",
          "shell.execute_reply": "2024-05-31T01:06:59.691403Z"
        },
        "trusted": true
      },
      "execution_count": null,
      "outputs": [
        {
          "execution_count": 10,
          "output_type": "execute_result",
          "data": {
            "text/plain": "   Diabetes_binary  HighBP  HighChol  CholCheck   BMI  Smoker  Stroke  \\\n0              0.0     1.0       0.0        1.0  26.0     0.0     0.0   \n1              0.0     1.0       1.0        1.0  26.0     1.0     1.0   \n2              0.0     0.0       0.0        1.0  26.0     0.0     0.0   \n3              0.0     1.0       1.0        1.0  28.0     1.0     0.0   \n4              0.0     0.0       0.0        1.0  29.0     1.0     0.0   \n\n   HeartDiseaseorAttack  PhysActivity  Fruits  ...  AnyHealthcare  \\\n0                   0.0           1.0     0.0  ...            1.0   \n1                   0.0           0.0     1.0  ...            1.0   \n2                   0.0           1.0     1.0  ...            1.0   \n3                   0.0           1.0     1.0  ...            1.0   \n4                   0.0           1.0     1.0  ...            1.0   \n\n   NoDocbcCost  GenHlth  MentHlth  PhysHlth  DiffWalk  Sex   Age  Education  \\\n0          0.0      3.0       5.0      30.0       0.0  1.0   4.0        6.0   \n1          0.0      3.0       0.0       0.0       0.0  1.0  12.0        6.0   \n2          0.0      1.0       0.0      10.0       0.0  1.0  13.0        6.0   \n3          0.0      3.0       0.0       3.0       0.0  1.0  11.0        6.0   \n4          0.0      2.0       0.0       0.0       0.0  0.0   8.0        5.0   \n\n   Income  \n0     8.0  \n1     8.0  \n2     8.0  \n3     8.0  \n4     8.0  \n\n[5 rows x 22 columns]",
            "text/html": "<div>\n<style scoped>\n    .dataframe tbody tr th:only-of-type {\n        vertical-align: middle;\n    }\n\n    .dataframe tbody tr th {\n        vertical-align: top;\n    }\n\n    .dataframe thead th {\n        text-align: right;\n    }\n</style>\n<table border=\"1\" class=\"dataframe\">\n  <thead>\n    <tr style=\"text-align: right;\">\n      <th></th>\n      <th>Diabetes_binary</th>\n      <th>HighBP</th>\n      <th>HighChol</th>\n      <th>CholCheck</th>\n      <th>BMI</th>\n      <th>Smoker</th>\n      <th>Stroke</th>\n      <th>HeartDiseaseorAttack</th>\n      <th>PhysActivity</th>\n      <th>Fruits</th>\n      <th>...</th>\n      <th>AnyHealthcare</th>\n      <th>NoDocbcCost</th>\n      <th>GenHlth</th>\n      <th>MentHlth</th>\n      <th>PhysHlth</th>\n      <th>DiffWalk</th>\n      <th>Sex</th>\n      <th>Age</th>\n      <th>Education</th>\n      <th>Income</th>\n    </tr>\n  </thead>\n  <tbody>\n    <tr>\n      <th>0</th>\n      <td>0.0</td>\n      <td>1.0</td>\n      <td>0.0</td>\n      <td>1.0</td>\n      <td>26.0</td>\n      <td>0.0</td>\n      <td>0.0</td>\n      <td>0.0</td>\n      <td>1.0</td>\n      <td>0.0</td>\n      <td>...</td>\n      <td>1.0</td>\n      <td>0.0</td>\n      <td>3.0</td>\n      <td>5.0</td>\n      <td>30.0</td>\n      <td>0.0</td>\n      <td>1.0</td>\n      <td>4.0</td>\n      <td>6.0</td>\n      <td>8.0</td>\n    </tr>\n    <tr>\n      <th>1</th>\n      <td>0.0</td>\n      <td>1.0</td>\n      <td>1.0</td>\n      <td>1.0</td>\n      <td>26.0</td>\n      <td>1.0</td>\n      <td>1.0</td>\n      <td>0.0</td>\n      <td>0.0</td>\n      <td>1.0</td>\n      <td>...</td>\n      <td>1.0</td>\n      <td>0.0</td>\n      <td>3.0</td>\n      <td>0.0</td>\n      <td>0.0</td>\n      <td>0.0</td>\n      <td>1.0</td>\n      <td>12.0</td>\n      <td>6.0</td>\n      <td>8.0</td>\n    </tr>\n    <tr>\n      <th>2</th>\n      <td>0.0</td>\n      <td>0.0</td>\n      <td>0.0</td>\n      <td>1.0</td>\n      <td>26.0</td>\n      <td>0.0</td>\n      <td>0.0</td>\n      <td>0.0</td>\n      <td>1.0</td>\n      <td>1.0</td>\n      <td>...</td>\n      <td>1.0</td>\n      <td>0.0</td>\n      <td>1.0</td>\n      <td>0.0</td>\n      <td>10.0</td>\n      <td>0.0</td>\n      <td>1.0</td>\n      <td>13.0</td>\n      <td>6.0</td>\n      <td>8.0</td>\n    </tr>\n    <tr>\n      <th>3</th>\n      <td>0.0</td>\n      <td>1.0</td>\n      <td>1.0</td>\n      <td>1.0</td>\n      <td>28.0</td>\n      <td>1.0</td>\n      <td>0.0</td>\n      <td>0.0</td>\n      <td>1.0</td>\n      <td>1.0</td>\n      <td>...</td>\n      <td>1.0</td>\n      <td>0.0</td>\n      <td>3.0</td>\n      <td>0.0</td>\n      <td>3.0</td>\n      <td>0.0</td>\n      <td>1.0</td>\n      <td>11.0</td>\n      <td>6.0</td>\n      <td>8.0</td>\n    </tr>\n    <tr>\n      <th>4</th>\n      <td>0.0</td>\n      <td>0.0</td>\n      <td>0.0</td>\n      <td>1.0</td>\n      <td>29.0</td>\n      <td>1.0</td>\n      <td>0.0</td>\n      <td>0.0</td>\n      <td>1.0</td>\n      <td>1.0</td>\n      <td>...</td>\n      <td>1.0</td>\n      <td>0.0</td>\n      <td>2.0</td>\n      <td>0.0</td>\n      <td>0.0</td>\n      <td>0.0</td>\n      <td>0.0</td>\n      <td>8.0</td>\n      <td>5.0</td>\n      <td>8.0</td>\n    </tr>\n  </tbody>\n</table>\n<p>5 rows × 22 columns</p>\n</div>"
          },
          "metadata": {}
        }
      ],
      "id": "858a4318-73f8-48d9-b5a5-ddc5b1b409e1"
    },
    {
      "cell_type": "code",
      "source": [
        "from sklearn.neighbors import KNeighborsClassifier\n",
        "from sklearn.ensemble import RandomForestClassifier, AdaBoostClassifier, GradientBoostingClassifier\n",
        "from xgboost import XGBClassifier\n",
        "from sklearn.tree import DecisionTreeClassifier\n",
        "from sklearn.svm import SVC\n",
        "from sklearn.model_selection import StratifiedKFold, RepeatedStratifiedKFold, RandomizedSearchCV, cross_validate, GridSearchCV\n",
        "from sklearn.metrics import classification_report"
      ],
      "metadata": {
        "id": "5226d7b2-2548-4954-bd3a-cdeb76c8a444",
        "execution": {
          "iopub.status.busy": "2024-05-31T01:13:54.027652Z",
          "iopub.execute_input": "2024-05-31T01:13:54.028630Z",
          "iopub.status.idle": "2024-05-31T01:13:54.036786Z",
          "shell.execute_reply.started": "2024-05-31T01:13:54.028589Z",
          "shell.execute_reply": "2024-05-31T01:13:54.035312Z"
        },
        "trusted": true
      },
      "execution_count": null,
      "outputs": [],
      "id": "5226d7b2-2548-4954-bd3a-cdeb76c8a444"
    },
    {
      "cell_type": "code",
      "source": [
        "X = df.drop(columns=\"Diabetes_binary\")\n",
        "y = df[\"Diabetes_binary\"]"
      ],
      "metadata": {
        "id": "55437ce4-a045-43b4-9c26-e5c05dcf4881",
        "execution": {
          "iopub.status.busy": "2024-05-31T01:07:23.257031Z",
          "iopub.execute_input": "2024-05-31T01:07:23.258120Z",
          "iopub.status.idle": "2024-05-31T01:07:23.284145Z",
          "shell.execute_reply.started": "2024-05-31T01:07:23.258065Z",
          "shell.execute_reply": "2024-05-31T01:07:23.282546Z"
        },
        "trusted": true
      },
      "execution_count": null,
      "outputs": [],
      "id": "55437ce4-a045-43b4-9c26-e5c05dcf4881"
    },
    {
      "cell_type": "code",
      "source": [
        "from sklearn.model_selection import train_test_split\n",
        "X_train, X_test, y_train, y_test = train_test_split(X, y, test_size=0.1, shuffle=True, stratify = y, random_state=42)\n",
        "\n",
        "# check shapes of split\n",
        "print(X_train.shape)\n",
        "print(X_test.shape)\n",
        "print(y_train.shape)\n",
        "print(y_test.shape)"
      ],
      "metadata": {
        "colab": {
          "base_uri": "https://localhost:8080/"
        },
        "id": "882bf674-6155-4636-9035-d7f782a993ab",
        "outputId": "79de11c9-6c9f-4349-bf57-2583f222f8dc",
        "execution": {
          "iopub.status.busy": "2024-05-31T01:07:29.444316Z",
          "iopub.execute_input": "2024-05-31T01:07:29.444754Z",
          "iopub.status.idle": "2024-05-31T01:07:29.516217Z",
          "shell.execute_reply.started": "2024-05-31T01:07:29.444726Z",
          "shell.execute_reply": "2024-05-31T01:07:29.514163Z"
        },
        "trusted": true
      },
      "execution_count": null,
      "outputs": [
        {
          "name": "stdout",
          "text": "(63622, 21)\n(7070, 21)\n(63622,)\n(7070,)\n",
          "output_type": "stream"
        }
      ],
      "id": "882bf674-6155-4636-9035-d7f782a993ab"
    },
    {
      "cell_type": "code",
      "source": [
        "X_train_train, X_train_validation, y_train_train, y_train_validation = train_test_split(X_train, y_train, test_size=0.1, stratify = y_train, shuffle=True, random_state=42)\n",
        "\n",
        "# check shapes of split\n",
        "print(X_train_train.shape)\n",
        "print(X_train_validation.shape)\n",
        "print(y_train_train.shape)\n",
        "print(y_train_validation.shape)"
      ],
      "metadata": {
        "colab": {
          "base_uri": "https://localhost:8080/"
        },
        "id": "8b0d4148-0590-4ce6-8af0-14e2e833d79d",
        "outputId": "3c8212ca-d916-415c-d728-832f44b4b752",
        "execution": {
          "iopub.status.busy": "2024-05-31T01:07:32.693362Z",
          "iopub.execute_input": "2024-05-31T01:07:32.693934Z",
          "iopub.status.idle": "2024-05-31T01:07:32.752924Z",
          "shell.execute_reply.started": "2024-05-31T01:07:32.693892Z",
          "shell.execute_reply": "2024-05-31T01:07:32.751616Z"
        },
        "trusted": true
      },
      "execution_count": null,
      "outputs": [
        {
          "name": "stdout",
          "text": "(57259, 21)\n(6363, 21)\n(57259,)\n(6363,)\n",
          "output_type": "stream"
        }
      ],
      "id": "8b0d4148-0590-4ce6-8af0-14e2e833d79d"
    },
    {
      "cell_type": "code",
      "source": [
        "# Function to plot the results in further sections\n",
        "\n",
        "def plot_score(title, x_label):\n",
        "    # Gather the results of different metrics on the classifier performance\n",
        "    # Define the name of each metric on the figures\n",
        "    training_scores = [train_acc_score, train_f1_score, train_precision_score, train_recall_score]\n",
        "    validation_scores = [validation_acc_score, validation_f1_score, validation_precision_score, validation_recall_score]\n",
        "    label_name = ['accuracy score', 'f1 score', 'precision score', 'recall score']\n",
        "\n",
        "    # subplots\n",
        "    fig, ax = plt.subplots(1, 4, figsize=(40, 10))\n",
        "    axe = ax.ravel()\n",
        "\n",
        "    # loop through the lists and plot the 3 figures with corresponding data\n",
        "    for i, scores in enumerate(zip(training_scores, validation_scores)):\n",
        "\n",
        "        axe[i].plot(list_parameters, scores[0], c='blue')\n",
        "        axe[i].plot(list_parameters, scores[1], c='red')\n",
        "        axe[i].set_title('Influence of ' + title + ' on ' + label_name[i])\n",
        "        axe[i].set_xlabel(x_label)\n",
        "        axe[i].set_ylabel(label_name[i])"
      ],
      "metadata": {
        "id": "17224d12-8b56-4cf5-967d-5d8916183716",
        "execution": {
          "iopub.status.busy": "2024-05-31T01:07:36.828644Z",
          "iopub.execute_input": "2024-05-31T01:07:36.829119Z",
          "iopub.status.idle": "2024-05-31T01:07:36.841648Z",
          "shell.execute_reply.started": "2024-05-31T01:07:36.829084Z",
          "shell.execute_reply": "2024-05-31T01:07:36.839905Z"
        },
        "trusted": true
      },
      "execution_count": null,
      "outputs": [],
      "id": "17224d12-8b56-4cf5-967d-5d8916183716"
    },
    {
      "cell_type": "code",
      "source": [
        "# Parameter grid for random forest classifier\n",
        "para_rfc = dict(\n",
        "    estimator__n_estimators=[100, 200, 300, 400, 500],\n",
        "    estimator__criterion=['gini', 'entropy', 'log_loss'],\n",
        "    estimator__max_depth=[*range(1, 20, 2)],\n",
        "    estimator__min_samples_split=[*range(2, 20, 2)],\n",
        "    estimator__min_samples_leaf=[*range(1, 20, 2)],\n",
        "    estimator__max_features=['auto', 'sqrt', 'log2'],\n",
        "    estimator__bootstrap=[True, False],\n",
        "    estimator__oob_score=[True, False],\n",
        "    estimator__ccp_alpha=[a/1000 for a in [*range(0, 15)]]\n",
        ")\n",
        "\n",
        "# Parameter grid for gradient boosting\n",
        "para_gbc = dict(\n",
        "    estimator__loss=['deviance', 'exponential'],\n",
        "    estimator__learning_rate=[0.01, 0.1, 0.2, 0.3],\n",
        "    estimator__n_estimators=[100, 200, 300],\n",
        "    estimator__criterion=['friedman_mse', 'mse', 'mae'],\n",
        "    estimator__max_depth=[*range(1, 10)],\n",
        "    estimator__min_samples_split=[*range(2, 20, 2)],\n",
        "    estimator__min_samples_leaf=[*range(1, 20, 2)],\n",
        "    estimator__subsample=[0.7, 0.8, 0.9, 1.0],\n",
        "    estimator__max_features=['auto', 'sqrt', 'log2']\n",
        ")\n",
        "\n",
        "# Parameter grid for ADABoost\n",
        "para_abc = dict(\n",
        "    estimator__n_estimators=[50, 100, 150, 200],\n",
        "    estimator__learning_rate=[0.01, 0.1, 0.2, 0.3, 1.0],\n",
        "    estimator__algorithm=['SAMME', 'SAMME.R']\n",
        ")\n",
        "\n",
        "\n",
        "# Parameter grid for XGBoost\n",
        "para_xgb = dict(\n",
        "    estimator__booster=['gbtree', 'gblinear', 'dart'],\n",
        "    estimator__learning_rate=[0.01, 0.1, 0.2, 0.3],\n",
        "    estimator__n_estimators=[100, 200, 300],\n",
        "    estimator__max_depth=[*range(1, 20, 2)],\n",
        "    estimator__min_child_weight=[1, 2, 3, 4],\n",
        "    estimator__gamma=[0, 0.1, 0.2, 0.3, 0.4],\n",
        "    estimator__subsample=[0.7, 0.8, 0.9, 1.0],\n",
        "    estimator__colsample_bytree=[0.7, 0.8, 0.9, 1.0],\n",
        "    estimator__reg_alpha=[0, 0.01, 0.1, 1],\n",
        "    estimator__reg_lambda=[1, 1.5, 2, 3]\n",
        ")\n",
        "\n",
        "# parameter grids for decision tree\n",
        "para_dtc = dict(\n",
        "    estimator__criterion=['gini', 'entropy', 'log_loss'],\n",
        "    estimator__splitter=['best', 'random'],\n",
        "    estimator__max_depth=[*range(1, 10)],\n",
        "    estimator__min_samples_split=[*range(10, 20, 10)],\n",
        "    estimator__min_samples_leaf=[*range(10, 20, 10)],\n",
        "    estimator__ccp_alpha=[a/1000 for a in [*range(0, 15)]]\n",
        ")\n",
        "\n",
        "# parameter grids for KNN\n",
        "para_knc = dict(\n",
        "    estimator__n_neighbors=[*range(1,15)],\n",
        "    estimator__weights=['uniform', 'distance'],\n",
        "    estimator__p=[*range(1, 4)]\n",
        ")\n",
        "\n",
        "# parameter grids for SVM with \"rbf\" kernel\n",
        "para_svc_rbf = dict(\n",
        "    estimator__kernel=['rbf'],\n",
        "    estimator__gamma=['scale', 'auto'],\n",
        "    estimator__C = [1, 2, 3, 4, 5]\n",
        ")\n",
        "\n",
        "# parameter grids for SVM with \"poly\" kernel\n",
        "para_svc_poly = dict(\n",
        "    estimator__kernel=['poly'],\n",
        "    estimator__degree=[*range(1, 4)],\n",
        "    estimator__gamma=['scale', 'auto'],\n",
        "    estimator__C = [1, 2, 3, 4, 5]\n",
        ")"
      ],
      "metadata": {
        "id": "733080ff-62bf-4ad9-bea7-33343729f1e1",
        "execution": {
          "iopub.status.busy": "2024-05-31T01:07:40.892858Z",
          "iopub.execute_input": "2024-05-31T01:07:40.893388Z",
          "iopub.status.idle": "2024-05-31T01:07:40.916875Z",
          "shell.execute_reply.started": "2024-05-31T01:07:40.893350Z",
          "shell.execute_reply": "2024-05-31T01:07:40.915110Z"
        },
        "trusted": true
      },
      "execution_count": null,
      "outputs": [],
      "id": "733080ff-62bf-4ad9-bea7-33343729f1e1"
    },
    {
      "cell_type": "code",
      "source": [
        "from sklearn.pipeline import Pipeline, make_pipeline\n",
        "from sklearn.preprocessing import MinMaxScaler\n",
        "\n",
        "def get_pipe(estimator):\n",
        "\n",
        "    \"\"\"\n",
        "    Data passed to this pipeline would be scaled by MinMaxScaler before the classifier\n",
        "    \"\"\"\n",
        "    return Pipeline([('scaler', MinMaxScaler()), ('estimator', estimator)])"
      ],
      "metadata": {
        "id": "705b24fb-1623-4d46-b500-6270dd25a0db",
        "execution": {
          "iopub.status.busy": "2024-05-31T01:07:46.066398Z",
          "iopub.execute_input": "2024-05-31T01:07:46.066887Z",
          "iopub.status.idle": "2024-05-31T01:07:46.079574Z",
          "shell.execute_reply.started": "2024-05-31T01:07:46.066852Z",
          "shell.execute_reply": "2024-05-31T01:07:46.078090Z"
        },
        "trusted": true
      },
      "execution_count": null,
      "outputs": [],
      "id": "705b24fb-1623-4d46-b500-6270dd25a0db"
    },
    {
      "cell_type": "code",
      "source": [
        "def nested_cv(clf, para_grid, num_trials=5, num_repeats=5, search_num_split=5, cv_num_split=5):\n",
        "\n",
        "    \"\"\"\n",
        "    Input:\n",
        "    1. clf = classifier\n",
        "    2. para_grid = corresponding grid of hyperparameters\n",
        "    3. num_trials = number of trials for outer cv\n",
        "    4. num_repeats = number of repeats for folds in outer cv\n",
        "    5. search_num_split = number of splits in inner search cv\n",
        "    6. cv_num_split = number of split for outer cv\n",
        "\n",
        "    Output:\n",
        "    Means and standard deviations of\n",
        "    1. fit time\n",
        "    2. score time\n",
        "    3. accuracy score\n",
        "    4. f1 score\n",
        "    5. recall score\n",
        "\n",
        "    Folding strategies are:\n",
        "    Inner cv = StratifiedKFold\n",
        "    Outer cv = RepeatedStratifiedKFold\n",
        "\n",
        "    Search Model = Random Search cv (To save computing resources) but return reasonable robust results at the same time\n",
        "    Number of iteration in the search model (Number of random parameter samples) = 10\n",
        "\n",
        "    F1 score is chosen to be the refit metrics in search cv\n",
        "    Although recall score is the most important score, the model might be trained to classify all the input as positive to avoid any false negative.\n",
        "    (High Recall scores but lower precision score)\n",
        "\n",
        "    Process:\n",
        "    Classifier is fitted to pipeline function, \"get_pipe\"\n",
        "    \"\"\"\n",
        "\n",
        "    # fit classifier to pipeline function defined previously\n",
        "    pipe = get_pipe(clf)\n",
        "\n",
        "    # prepare empty lists to store the results\n",
        "    fit_time, score_time = [], []\n",
        "    test_score_acc, test_score_f1, test_score_recall = [], [], []\n",
        "\n",
        "    # apply for loop to run the whole nested cv\n",
        "    for i in range(num_trials):\n",
        "\n",
        "        # Fold method for inner cv\n",
        "        skf = StratifiedKFold(\n",
        "            n_splits=search_num_split,\n",
        "            shuffle=True,\n",
        "            random_state=73+i\n",
        "        )\n",
        "\n",
        "        # Fold method of outer cv\n",
        "        rskf = RepeatedStratifiedKFold(\n",
        "            n_splits=cv_num_split,\n",
        "            n_repeats=num_repeats,\n",
        "            random_state=73+i\n",
        "        )\n",
        "\n",
        "        # fit pipeline to search cv\n",
        "        # fit the corresponding parameter grids to the classifier\n",
        "        # use StratifiedKFold be splitting strategy\n",
        "        # use f1 as refit score to search the best hyperparameter combinations\n",
        "        search_cv = RandomizedSearchCV(\n",
        "            estimator=pipe,\n",
        "            param_distributions=para_grid,\n",
        "            cv=skf,\n",
        "            scoring=\"f1\",\n",
        "            refit=\"f1\",\n",
        "            random_state=73+i\n",
        "        )\n",
        "\n",
        "        # fit X_train and y_train data to cv\n",
        "        # X_train is not scaled here, but is scaled when passes through pipeline inside random search cv\n",
        "        # track 3 metrics\n",
        "        cv = cross_validate(\n",
        "            estimator=search_cv,\n",
        "            X=X_train,\n",
        "            y=y_train,\n",
        "            cv=rskf,\n",
        "            scoring=[\"accuracy\", \"f1\", \"recall\"]\n",
        "        )\n",
        "\n",
        "        # Store results to the corresponding lists prepared\n",
        "        fit_time.append(cv['fit_time'])\n",
        "        score_time.append(cv['score_time'])\n",
        "        test_score_acc.append(cv['test_accuracy'])\n",
        "        test_score_f1.append(cv['test_f1'])\n",
        "        test_score_recall.append(cv['test_recall'])\n",
        "\n",
        "\n",
        "    # Store mean fit and score time\n",
        "    mean_fit_time = np.mean(np.array(fit_time).flatten())\n",
        "    mean_score_time = np.mean(np.array(fit_time).flatten())\n",
        "\n",
        "    # Store mean and standard deviation of accuracy score\n",
        "    mean_test_score_acc = np.mean(np.array(test_score_acc).flatten())\n",
        "    std_test_score_acc = np.std(np.array(test_score_acc).flatten())\n",
        "\n",
        "    # Store mean and standard deviation of f1 score\n",
        "    mean_test_score_f1 = np.mean(np.array(test_score_f1).flatten())\n",
        "    std_test_score_f1 = np.std(np.array(test_score_f1).flatten())\n",
        "\n",
        "    # Store mean and standard deviation of recall score\n",
        "    mean_test_score_recall = np.mean(np.array(test_score_recall).flatten())\n",
        "    std_test_score_recall = np.std(np.array(test_score_recall).flatten())\n",
        "\n",
        "    # return all the results stored\n",
        "    return [mean_fit_time, mean_score_time, mean_test_score_acc, std_test_score_acc, mean_test_score_f1, std_test_score_f1, mean_test_score_recall, std_test_score_recall]"
      ],
      "metadata": {
        "id": "ffb91e11-f6e2-475a-9ca2-c4f9d7066a8c",
        "execution": {
          "iopub.status.busy": "2024-05-31T01:07:49.644203Z",
          "iopub.execute_input": "2024-05-31T01:07:49.644777Z",
          "iopub.status.idle": "2024-05-31T01:07:49.664547Z",
          "shell.execute_reply.started": "2024-05-31T01:07:49.644741Z",
          "shell.execute_reply": "2024-05-31T01:07:49.663433Z"
        },
        "trusted": true
      },
      "execution_count": null,
      "outputs": [],
      "id": "ffb91e11-f6e2-475a-9ca2-c4f9d7066a8c"
    },
    {
      "cell_type": "markdown",
      "source": [
        "#### SVM poly - Grid Search CV"
      ],
      "metadata": {
        "id": "s_VtaMW5v1Q_"
      },
      "id": "s_VtaMW5v1Q_"
    },
    {
      "cell_type": "code",
      "source": [
        "# fit the final production model to pipeline\n",
        "# input data is scaled by MinMaxScaler in each split in CV\n",
        "pipe = get_pipe(XGBClassifier())\n",
        "\n",
        "# prepare grid of parameters and split numbers\n",
        "para_grid = para_xgb\n",
        "num_splits = 5\n",
        "num_repeats = 5\n",
        "\n",
        "# Fold strategy for outer cv\n",
        "rskf = RepeatedStratifiedKFold(\n",
        "    n_splits=num_splits,\n",
        "    n_repeats=num_repeats,\n",
        "    random_state=73\n",
        ")\n",
        "\n",
        "# fit pipeline and grid to Grid Search CV\n",
        "search_cv = GridSearchCV(\n",
        "    estimator=pipe,\n",
        "    param_grid=para_grid,\n",
        "    return_train_score=True,\n",
        "    scoring=[\"accuracy\", \"f1\", \"recall\"],\n",
        "    refit='f1',\n",
        "    cv=rskf,\n",
        "    n_jobs=4\n",
        ")\n",
        "\n",
        "# fit original training set to the search model\n",
        "search_cv.fit(X_train, y_train)"
      ],
      "metadata": {
        "execution": {
          "iopub.status.busy": "2024-05-31T01:14:06.580375Z",
          "iopub.execute_input": "2024-05-31T01:14:06.580834Z"
        },
        "trusted": true,
        "id": "h3ER8vldv1RD"
      },
      "execution_count": null,
      "outputs": [],
      "id": "h3ER8vldv1RD"
    },
    {
      "cell_type": "markdown",
      "source": [
        "#### Best Hyperparameters"
      ],
      "metadata": {
        "id": "C_xo_G13v1RE"
      },
      "id": "C_xo_G13v1RE"
    },
    {
      "cell_type": "code",
      "source": [
        "# Checking the combination of parameters, which generated the best result\n",
        "print(search_cv.best_params_)"
      ],
      "metadata": {
        "id": "LR1bYB5_v1RE"
      },
      "execution_count": null,
      "outputs": [],
      "id": "LR1bYB5_v1RE"
    },
    {
      "cell_type": "code",
      "source": [
        "# Using pipeline to fit the model with MinMaxScaling\n",
        "# Fitting original training set to the best model\n",
        "\n",
        "best_clf = search_cv.best_estimator_\n",
        "pipe_clf = make_pipeline(MinMaxScaler(), best_clf)\n",
        "pipe_clf.fit(X_train, y_train)"
      ],
      "metadata": {
        "id": "DH5lzfwwv1RF"
      },
      "execution_count": null,
      "outputs": [],
      "id": "DH5lzfwwv1RF"
    },
    {
      "cell_type": "code",
      "source": [
        "# result of fitting original training set\n",
        "print(classification_report(y_train, pipe_clf.predict(X_train)))"
      ],
      "metadata": {
        "id": "4gaarCS0v1RF"
      },
      "execution_count": null,
      "outputs": [],
      "id": "4gaarCS0v1RF"
    },
    {
      "cell_type": "markdown",
      "source": [
        "##### Test Set"
      ],
      "metadata": {
        "id": "ynFdvt6Bv1RG"
      },
      "id": "ynFdvt6Bv1RG"
    },
    {
      "cell_type": "code",
      "source": [
        "# result of fitting original testing set\n",
        "print(classification_report(y_test, pipe_clf.predict(X_test)))"
      ],
      "metadata": {
        "id": "iQ39s_W_v1RH"
      },
      "execution_count": null,
      "outputs": [],
      "id": "iQ39s_W_v1RH"
    }
  ]
}